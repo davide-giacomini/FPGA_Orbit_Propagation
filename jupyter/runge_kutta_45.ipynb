{
 "cells": [
  {
   "cell_type": "markdown",
   "id": "412403fa",
   "metadata": {},
   "source": [
    "# Script Runge Kutta 4(5)"
   ]
  },
  {
   "cell_type": "markdown",
   "id": "dac2a48d",
   "metadata": {},
   "source": [
    "## Import libraries and overlay"
   ]
  },
  {
   "cell_type": "markdown",
   "id": "25f9b030",
   "metadata": {},
   "source": [
    "### Import Python libraries"
   ]
  },
  {
   "cell_type": "code",
   "execution_count": 1,
   "id": "2d83dbf1",
   "metadata": {},
   "outputs": [],
   "source": [
    "import numpy as np\n",
    "import timeit\n",
    "import math\n",
    "import time\n",
    "import os\n",
    "import errno\n",
    "import pandas as pd"
   ]
  },
  {
   "cell_type": "markdown",
   "id": "87f96f54",
   "metadata": {},
   "source": [
    "### Import Pynq libraries"
   ]
  },
  {
   "cell_type": "code",
   "execution_count": 2,
   "id": "b0c55111",
   "metadata": {},
   "outputs": [
    {
     "data": {
      "application/javascript": [
       "\n",
       "try {\n",
       "require(['notebook/js/codecell'], function(codecell) {\n",
       "  codecell.CodeCell.options_default.highlight_modes[\n",
       "      'magic_text/x-csrc'] = {'reg':[/^%%microblaze/]};\n",
       "  Jupyter.notebook.events.one('kernel_ready.Kernel', function(){\n",
       "      Jupyter.notebook.get_cells().map(function(cell){\n",
       "          if (cell.cell_type == 'code'){ cell.auto_highlight(); } }) ;\n",
       "  });\n",
       "});\n",
       "} catch (e) {};\n"
      ]
     },
     "metadata": {},
     "output_type": "display_data"
    },
    {
     "data": {
      "application/javascript": [
       "\n",
       "try {\n",
       "require(['notebook/js/codecell'], function(codecell) {\n",
       "  codecell.CodeCell.options_default.highlight_modes[\n",
       "      'magic_text/x-csrc'] = {'reg':[/^%%pybind11/]};\n",
       "  Jupyter.notebook.events.one('kernel_ready.Kernel', function(){\n",
       "      Jupyter.notebook.get_cells().map(function(cell){\n",
       "          if (cell.cell_type == 'code'){ cell.auto_highlight(); } }) ;\n",
       "  });\n",
       "});\n",
       "} catch (e) {};\n"
      ]
     },
     "metadata": {},
     "output_type": "display_data"
    }
   ],
   "source": [
    "from pynq import Overlay\n",
    "from pynq import allocate"
   ]
  },
  {
   "cell_type": "markdown",
   "id": "12b43eff",
   "metadata": {},
   "source": [
    "### Import overlay"
   ]
  },
  {
   "cell_type": "code",
   "execution_count": 3,
   "id": "9d3eae2f",
   "metadata": {},
   "outputs": [],
   "source": [
    "# Include overlay\n",
    "# TODO after bitstream generation, move into the folder of Pynq:\n",
    "#   - `VIVADO_ROOT/euler_propagator_vivado/euler_propagator_vivado.gen/sources_1/bd/design_1/hw_handoff/design_1.hwh` --> rename into `design_1_wrapper.hwh`\n",
    "#   - `VIVADO_ROOT/euler_propagator_vivado/euler_propagator_vivado.runs/impl_1/design_1_wrapper.bit`\n",
    "\n",
    "overlay = Overlay(\"./design_1_wrapper.bit\")"
   ]
  },
  {
   "cell_type": "code",
   "execution_count": 4,
   "id": "d2604052",
   "metadata": {},
   "outputs": [],
   "source": [
    "# overlay?"
   ]
  },
  {
   "cell_type": "markdown",
   "id": "2eb1e50b",
   "metadata": {},
   "source": [
    "## Initialization"
   ]
  },
  {
   "cell_type": "markdown",
   "id": "3d6fd658",
   "metadata": {},
   "source": [
    "## Utils"
   ]
  },
  {
   "cell_type": "code",
   "execution_count": 5,
   "id": "9b8fac91",
   "metadata": {},
   "outputs": [],
   "source": [
    "def write_to_csv(X, filename):\n",
    "    script_directory = os.getcwd()\n",
    "    \n",
    "    # Path to the directory\n",
    "    dir_path = script_directory + \"/orbit_csv\"\n",
    "\n",
    "    print(dir_path)\n",
    "\n",
    "    # Creates the directory if it doesn't exist\n",
    "    try:\n",
    "        os.makedirs(dir_path)\n",
    "    except OSError as e:\n",
    "        if e.errno != errno.EEXIST:\n",
    "            raise FileNotFoundError(\"Error: Unable to create directory \" + dir_path)\n",
    "\n",
    "    # Create dataframes for the array and matrix\n",
    "    X_df = pd.DataFrame(X)\n",
    "    \n",
    "    # Write the dataframes to CSV files\n",
    "    X_df.to_csv(os.path.join(dir_path, filename), index=False, header=None)\n",
    "\n",
    "    print(filename + \" updated.\")"
   ]
  },
  {
   "cell_type": "markdown",
   "id": "d0ce5e00",
   "metadata": {},
   "source": [
    "### Declare IP "
   ]
  },
  {
   "cell_type": "code",
   "execution_count": 14,
   "id": "80a0ae80",
   "metadata": {},
   "outputs": [],
   "source": [
    "rk45_ip = overlay.runge_kutta_45_0"
   ]
  },
  {
   "cell_type": "code",
   "execution_count": 15,
   "id": "ead4f33f",
   "metadata": {},
   "outputs": [],
   "source": [
    "rk45_ip?"
   ]
  },
  {
   "cell_type": "markdown",
   "id": "6bdefc7f",
   "metadata": {},
   "source": [
    "### Declaration of rk45_ip IP"
   ]
  },
  {
   "cell_type": "code",
   "execution_count": 16,
   "id": "67de0722",
   "metadata": {},
   "outputs": [
    {
     "data": {
      "text/plain": [
       "RegisterMap {\n",
       "  CTRL = Register(AP_START=0, AP_DONE=0, AP_IDLE=1, AP_READY=0, RESERVED_1=0, AUTO_RESTART=0, RESERVED_2=0, INTERRUPT=0, RESERVED_3=0),\n",
       "  GIER = Register(Enable=0, RESERVED=0),\n",
       "  IP_IER = Register(CHAN0_INT_EN=0, CHAN1_INT_EN=0, RESERVED_0=0),\n",
       "  IP_ISR = Register(CHAN0_INT_ST=0, CHAN1_INT_ST=0, RESERVED_0=0),\n",
       "  yy_1 = Register(yy=write-only),\n",
       "  yy_2 = Register(yy=write-only),\n",
       "  tt_1 = Register(tt=write-only),\n",
       "  tt_2 = Register(tt=write-only),\n",
       "  tf_1 = Register(tf=write-only),\n",
       "  tf_2 = Register(tf=write-only),\n",
       "  h0_1 = Register(h0=write-only),\n",
       "  h0_2 = Register(h0=write-only),\n",
       "  tol_1 = Register(tol=write-only),\n",
       "  tol_2 = Register(tol=write-only),\n",
       "  mu_1 = Register(mu=write-only),\n",
       "  mu_2 = Register(mu=write-only),\n",
       "  size = Register(size=0),\n",
       "  size_ctrl = Register(size_ap_vld=0, RESERVED=0)\n",
       "}"
      ]
     },
     "execution_count": 16,
     "metadata": {},
     "output_type": "execute_result"
    }
   ],
   "source": [
    "rk45_ip.register_map"
   ]
  },
  {
   "cell_type": "code",
   "execution_count": 17,
   "id": "ab0ec96d",
   "metadata": {},
   "outputs": [
    {
     "data": {
      "text/plain": [
       "Register(AP_START=0, AP_DONE=0, AP_IDLE=1, AP_READY=0, RESERVED_1=0, AUTO_RESTART=0, RESERVED_2=0, INTERRUPT=0, RESERVED_3=0)"
      ]
     },
     "execution_count": 17,
     "metadata": {},
     "output_type": "execute_result"
    }
   ],
   "source": [
    "rk45_ip.register_map.CTRL"
   ]
  },
  {
   "cell_type": "code",
   "execution_count": 18,
   "id": "50ec975f",
   "metadata": {},
   "outputs": [
    {
     "data": {
      "text/plain": [
       "'0b100'"
      ]
     },
     "execution_count": 18,
     "metadata": {},
     "output_type": "execute_result"
    }
   ],
   "source": [
    "bin(rk45_ip.read(0x00))"
   ]
  },
  {
   "cell_type": "markdown",
   "id": "7ddc8970",
   "metadata": {},
   "source": [
    "### Constant declaration and initialization"
   ]
  },
  {
   "cell_type": "code",
   "execution_count": 19,
   "id": "e75a21af",
   "metadata": {},
   "outputs": [],
   "source": [
    "D = 3\n",
    "N = 2*D\n",
    "\n",
    "T_REV = 5828.516637686026\n",
    "N_REV = 5\n",
    "TF = T_REV*N_REV # Oltre a 1284s l'errore porta h a frazioni di secondo. In simulazione non accade\n",
    "MU = 398600.4418\n",
    "TOL = 1e-09\n",
    "\n",
    "h0 = 15.0\n",
    "h_min = 0.1\n",
    "max_rows = math.ceil(TF/h_min) + 1\n",
    "\n",
    "r0 = np.array([6893.65420319622, 607.768615848904, 1052.68612189611])\n",
    "v0 = np.array([-1.31035840240472, 3.71570593010086, 6.43579145691966])"
   ]
  },
  {
   "cell_type": "markdown",
   "id": "f5afa6e6",
   "metadata": {},
   "source": [
    "## CPU computation"
   ]
  },
  {
   "cell_type": "markdown",
   "id": "0f66d429",
   "metadata": {},
   "source": [
    "### Functions definition"
   ]
  },
  {
   "cell_type": "code",
   "execution_count": 20,
   "id": "a060a607",
   "metadata": {},
   "outputs": [],
   "source": [
    "# RK45 CONSTANTS\n",
    "C = np.array([0, 1/4, 3/8, 12/13, 1, 1/2])\n",
    "\n",
    "A = np.array([[0, 0, 0, 0, 0],\n",
    "              [1/4, 0, 0, 0, 0],\n",
    "              [3/32, 9/32, 0, 0, 0],\n",
    "              [1932/2197, -7200/2197, 7296/2197, 0, 0],\n",
    "              [439/216, -8, 3680/513, -845/4104, 0],\n",
    "              [-8/27, 2, -3544/2565, 1859/4104, -11/40]])\n",
    "\n",
    "B = np.array([16/135, 0, 6656/12825, 28561/56430, -9/50, 2/55]) # 5th order\n",
    "Bs = np.array([25/216, 0, 1408/2565, 2197/4104, -1/5, 0])   # 4th order\n",
    "\n",
    "def rk_45(f, t0, tf, y0, h, tol):\n",
    "    \n",
    "    # vettore degli istanti in cui risolvo la edo\n",
    "    t_h = np.array([t0])\n",
    "\n",
    "    h_h = np.array([h])\n",
    "\n",
    "    # inizializzo il vettore che conterra' la soluzione discreta\n",
    "    u_h = np.zeros((0,6))\n",
    "    u_h = np.vstack((u_h, y0))\n",
    "\n",
    "    while (t_h[-1] < tf):\n",
    "\n",
    "        if (t_h[-1] + h > tf):\n",
    "            h = tf - t_h[-1]\n",
    "\n",
    "        # ciclo iterativo per calcolare la soluzione                \n",
    "        k_0 = f(t_h + h       , u_h[-1])\n",
    "        k_1 = f(t_h + C[1] * h, u_h[-1] + h * (A[1,0]*k_0))\n",
    "        k_2 = f(t_h + C[2] * h, u_h[-1] + h * (A[2,0]*k_0 + A[2,1]*k_1))\n",
    "        k_3 = f(t_h + C[3] * h, u_h[-1] + h * (A[3,0]*k_0 + A[3,1]*k_1 + A[3,2]*k_2))\n",
    "        k_4 = f(t_h + C[4] * h, u_h[-1] + h * (A[4,0]*k_0 + A[4,1]*k_1 + A[4,2]*k_2 + A[4,3]*k_3))\n",
    "        k_5 = f(t_h + C[5] * h, u_h[-1] + h * (A[5,0]*k_0 + A[5,1]*k_1 + A[5,2]*k_2 + A[5,3]*k_3 + A[5,4]*k_4))\n",
    "\n",
    "        e = h * ( (B[0] - Bs[0])*k_0 + (B[1] - Bs[1])*k_1 + (B[2] - Bs[2])*k_2 + (B[3] - Bs[3])*k_3 + (B[4] - Bs[4])*k_4 + (B[5] - Bs[5])*k_5 )\n",
    "\n",
    "        err = np.linalg.norm(e)  # I don't use the norm to see the difference with the C implementation\n",
    "        scale = 1\n",
    "        tol_step = tol * h / (tf-t0)\n",
    "\n",
    "        if (err <= tol_step):\n",
    "            u_h = np.vstack((u_h, u_h[-1] + h * (B[0]*k_0 + B[1]*k_1 + B[2]*k_2 + B[3]*k_3 + B[4]*k_4 + B[5]*k_5)))\n",
    "            t_h = np.vstack((t_h, t_h[-1] + h))\n",
    "\n",
    "            h_h = np.vstack(((h_h, h)))\n",
    "            \n",
    "            scale = 1.11\n",
    "            \n",
    "        else:\n",
    "            scale = 0.99\n",
    "\n",
    "        # # compute the optimal step size\n",
    "        # scale = (2*tol_step/ (err + tol_step))**0.2\n",
    "\n",
    "        h *= scale\n",
    "\n",
    "    return t_h, u_h, h_h\n",
    "\n",
    "\n",
    "def ode(t, y, mu):\n",
    "    # t: time variable (unused in this function, but required for use with ode45)\n",
    "    # in_vec: input vector of size 6 containing the position and velocity\n",
    "    # mu: a constant parameter\n",
    "    \n",
    "    # extract the position and velocity vectors from the input\n",
    "    r = y[0:3]\n",
    "    v = y[3:6]\n",
    "    \n",
    "    # compute the new position and velocity\n",
    "    r_new = v\n",
    "    r_norm = np.linalg.norm(r)\n",
    "    v_new = - r * mu / r_norm**3\n",
    "    \n",
    "    # combine the position and velocity into the output vector\n",
    "    out = np.concatenate((r_new, v_new))\n",
    "    \n",
    "    return out"
   ]
  },
  {
   "cell_type": "markdown",
   "id": "51d8b72e",
   "metadata": {},
   "source": [
    "### Computation"
   ]
  },
  {
   "cell_type": "code",
   "execution_count": 15,
   "id": "5f179eea",
   "metadata": {
    "collapsed": true
   },
   "outputs": [
    {
     "name": "stdout",
     "output_type": "stream",
     "text": [
      "[0.1]\n",
      "[0.211]\n",
      "[0.33421]\n",
      "[0.4709731]\n",
      "[0.62278014]\n",
      "[0.79128596]\n",
      "[0.97832741]\n",
      "[1.18594343]\n",
      "[1.4163972]\n",
      "[1.6722009]\n",
      "[1.956143]\n",
      "[2.27131872]\n",
      "[2.62116378]\n",
      "[3.0094918]\n",
      "[3.4405359]\n",
      "[3.91899485]\n",
      "[4.45008428]\n",
      "[5.03959355]\n",
      "[5.69394884]\n",
      "[6.42028321]\n",
      "[7.22651437]\n",
      "[8.12143095]\n",
      "[9.11478835]\n",
      "[10.21741507]\n",
      "[11.44133073]\n",
      "[12.70758473]\n",
      "[13.97873168]\n",
      "[15.24202987]\n",
      "[16.51020958]\n",
      "[17.78328967]\n",
      "[19.04850908]\n",
      "[20.31861742]\n",
      "[21.58088344]\n",
      "[22.84802698]\n",
      "[24.12006689]\n",
      "[25.38425254]\n",
      "[26.65332314]\n",
      "[27.91455782]\n",
      "[29.18066603]\n",
      "[30.45166662]\n",
      "[31.71481937]\n",
      "[32.98285307]\n",
      "[34.25578658]\n",
      "[35.52086032]\n",
      "[36.79082243]\n",
      "[38.05294311]\n",
      "[39.31994076]\n",
      "[40.59183422]\n",
      "[41.85587432]\n",
      "[43.1247988]\n",
      "[44.38588827]\n",
      "[45.65185071]\n",
      "[46.92270496]\n",
      "[48.18571228]\n",
      "[49.45359998]\n",
      "[50.72638694]\n",
      "[51.99131502]\n",
      "[53.26113092]\n",
      "[54.52310629]\n",
      "[55.78995806]\n",
      "[57.06170508]\n",
      "[58.32559965]\n",
      "[59.59437803]\n",
      "[60.8553223]\n",
      "[62.12113899]\n",
      "[63.39184692]\n",
      "[64.65470882]\n",
      "[65.92245055]\n",
      "[67.19509096]\n",
      "[68.45987341]\n",
      "[69.72954311]\n",
      "[70.99137318]\n",
      "[72.25807909]\n",
      "[73.52967969]\n",
      "[74.79342874]\n",
      "[76.06206105]\n",
      "[77.32286014]\n",
      "[78.58853109]\n",
      "[79.85909272]\n",
      "[81.12180922]\n",
      "[82.38940499]\n",
      "[83.66189887]\n",
      "[84.9265357]\n",
      "[86.19605921]\n",
      "[87.45774401]\n",
      "[88.72430408]\n",
      "[89.99575827]\n",
      "[91.25936182]\n",
      "[92.52784807]\n",
      "[93.788502]\n",
      "[95.05402722]\n",
      "[96.32444257]\n",
      "[97.58701369]\n",
      "[98.85446351]\n",
      "[100.12681089]\n",
      "[101.39130211]\n",
      "[102.66067946]\n",
      "[103.92221899]\n",
      "[105.18863324]\n",
      "[106.45994104]\n",
      "[107.72339911]\n",
      "[108.99173931]\n",
      "[110.25224809]\n",
      "[111.51762761]\n",
      "[112.78789669]\n",
      "[114.05032244]\n",
      "[115.31762634]\n",
      "[116.58982723]\n",
      "[117.85417287]\n",
      "[119.12340406]\n",
      "[120.38479835]\n",
      "[121.65106679]\n",
      "[122.92222822]\n",
      "[124.18554082]\n",
      "[125.45373499]\n",
      "[126.71409865]\n",
      "[127.97933248]\n",
      "[129.2494553]\n",
      "[130.51173571]\n",
      "[131.77889369]\n",
      "[133.05094811]\n",
      "[134.31514818]\n",
      "[135.58423324]\n",
      "[136.8454823]\n",
      "[138.11160495]\n",
      "[139.38262002]\n",
      "[140.64578717]\n",
      "[141.91383533]\n",
      "[143.17405387]\n",
      "[144.43914203]\n",
      "[145.70911862]\n",
      "[146.9712537]\n",
      "[148.23826579]\n",
      "[149.51017375]\n",
      "[150.77422826]\n",
      "[152.04316721]\n",
      "[153.30427105]\n",
      "[154.57024793]\n",
      "[155.84111667]\n",
      "[157.10413838]\n",
      "[158.37204054]\n",
      "[159.64484201]\n",
      "[160.90978451]\n",
      "[162.17961489]\n",
      "[163.44160464]\n",
      "[164.70847086]\n",
      "[165.98023238]\n",
      "[167.24414135]\n",
      "[168.51293421]\n",
      "[169.77389285]\n",
      "[171.03972397]\n",
      "[172.31044639]\n",
      "[173.57332269]\n",
      "[174.84107887]\n",
      "[176.11373379]\n",
      "[177.37853066]\n",
      "[178.64821483]\n",
      "[179.91005929]\n",
      "[181.17677964]\n",
      "[182.44839474]\n",
      "[183.7121582]\n",
      "[184.98080497]\n",
      "[186.24161843]\n",
      "[187.50730381]\n",
      "[188.77787993]\n",
      "[190.04061082]\n",
      "[191.30822104]\n",
      "[192.58072944]\n",
      "[193.84538068]\n",
      "[195.11491867]\n",
      "[196.37661784]\n",
      "[197.64319236]\n",
      "[198.91466105]\n",
      "[200.178279]\n",
      "[201.44677971]\n",
      "[202.70744801]\n",
      "[203.97298766]\n",
      "[205.24341749]\n",
      "[206.50600301]\n",
      "[207.77346728]\n",
      "[209.04582916]\n",
      "[210.3103348]\n",
      "[211.57972662]\n",
      "[212.84128054]\n",
      "[214.10770922]\n",
      "[215.37903152]\n",
      "[216.64250399]\n",
      "[217.91085865]\n",
      "[219.1713818]\n",
      "[220.43677575]\n",
      "[221.70705931]\n",
      "[222.96949946]\n",
      "[224.2368178]\n",
      "[225.50903319]\n",
      "[226.77339325]\n",
      "[228.04263891]\n",
      "[229.30404758]\n",
      "[230.57033046]\n",
      "[231.84150638]\n",
      "[233.10483338]\n",
      "[234.37304201]\n",
      "[235.63342004]\n",
      "[236.89866829]\n",
      "[238.1688056]\n",
      "[239.43110039]\n",
      "[240.69827283]\n",
      "[241.97034174]\n",
      "[243.23455622]\n",
      "[244.50365576]\n",
      "[245.76491919]\n",
      "[247.03105628]\n",
      "[248.30208584]\n",
      "[249.56526739]\n",
      "[250.83333001]\n",
      "[252.10629254]\n",
      "[253.37139513]\n",
      "[254.6413862]\n",
      "[255.90353566]\n",
      "[257.1705622]\n",
      "[258.44248465]\n",
      "[259.70655358]\n",
      "[260.975507]\n",
      "[262.23662522]\n",
      "[263.50261653]\n",
      "[264.77349975]\n",
      "[266.03653587]\n",
      "[267.30445248]\n",
      "[268.57726846]\n",
      "[269.84222539]\n",
      "[271.11207024]\n",
      "[272.37407438]\n",
      "[273.64095504]\n",
      "[274.91273106]\n",
      "[276.17665444]\n",
      "[277.44546176]\n",
      "[278.70643478]\n",
      "[279.97228033]\n",
      "[281.24301724]\n",
      "[282.50590793]\n",
      "[283.77367857]\n",
      "[285.046348]\n",
      "[286.31115928]\n",
      "[287.58085793]\n",
      "[288.84271678]\n",
      "[290.10945157]\n",
      "[291.38108117]\n",
      "[292.64485903]\n",
      "[293.91352027]\n",
      "[295.17434811]\n",
      "[296.44004791]\n",
      "[297.71063852]\n",
      "[298.97338381]\n",
      "[300.24100848]\n",
      "[301.51353138]\n",
      "[302.77819704]\n",
      "[304.04774951]\n",
      "[305.30946307]\n",
      "[306.57605202]\n",
      "[307.8475352]\n",
      "[309.11116757]\n",
      "[310.37968273]\n",
      "[311.64036541]\n",
      "[312.90591949]\n",
      "[314.1763638]\n",
      "[315.43896371]\n",
      "[316.70644243]\n",
      "[317.97881883]\n",
      "[319.24333888]\n",
      "[320.51274517]\n",
      "[321.77431347]\n",
      "[323.04075659]\n",
      "[324.31209339]\n",
      "[325.57558026]\n",
      "[326.84394938]\n",
      "[328.1044869]\n",
      "[329.36989528]\n",
      "[330.64019332]\n",
      "[331.90264786]\n",
      "[333.16998065]\n",
      "[334.44221055]\n",
      "[335.70658501]\n",
      "[336.97584515]\n",
      "[338.2372682]\n",
      "[339.50356551]\n",
      "[340.77475593]\n",
      "[342.03809733]\n",
      "[343.30632042]\n",
      "[344.56671282]\n",
      "[345.8319755]\n",
      "[347.10212728]\n",
      "[348.36443647]\n",
      "[349.63162335]\n",
      "[350.90370677]\n",
      "[352.16793566]\n",
      "[353.43704967]\n",
      "[354.69832748]\n",
      "[355.964479]\n",
      "[357.23552306]\n",
      "[358.49871901]\n",
      "[359.76679608]\n",
      "[361.02704336]\n",
      "[362.29216036]\n",
      "[363.56216591]\n",
      "[364.82432976]\n",
      "[366.09137075]\n",
      "[367.3633077]\n",
      "[368.62739104]\n",
      "[369.89635893]\n",
      "[371.15749152]\n",
      "[372.42349726]\n",
      "[373.69439498]\n",
      "[374.9574455]\n",
      "[376.22537657]\n",
      "[377.49820705]\n",
      "[378.7631784]\n",
      "[380.03303773]\n",
      "[381.29505626]\n",
      "[382.56195136]\n",
      "[383.83374188]\n",
      "[385.09767968]\n",
      "[386.36650146]\n",
      "[387.62748886]\n",
      "[388.89334884]\n",
      "[390.16410023]\n",
      "[391.42700533]\n",
      "[392.69479041]\n",
      "[393.95474751]\n",
      "[395.21957322]\n",
      "[396.48928634]\n",
      "[397.75115957]\n",
      "[399.01790881]\n",
      "[400.2895529]\n",
      "[401.55334518]\n",
      "[402.82202088]\n",
      "[404.08286309]\n",
      "[405.34857733]\n",
      "[406.61918241]\n",
      "[407.8819421]\n",
      "[409.14958123]\n",
      "[410.42211864]\n",
      "[411.68679872]\n",
      "[412.95636565]\n",
      "[414.2180936]\n",
      "[415.48469699]\n",
      "[416.75619467]\n",
      "[418.01984144]\n",
      "[419.28837107]\n",
      "[420.54906812]\n",
      "[421.81463663]\n",
      "[423.08509542]\n",
      "[424.34770972]\n",
      "[425.6152029]\n",
      "[426.8875938]\n",
      "[428.15212827]\n",
      "[429.42154903]\n",
      "[430.68313171]\n",
      "[431.94958927]\n",
      "[433.22094056]\n",
      "[434.48444184]\n",
      "[435.75282542]\n",
      "[437.01337732]\n",
      "[438.27880012]\n",
      "[439.54911264]\n",
      "[440.81158157]\n",
      "[442.07892881]\n",
      "[443.35117321]\n",
      "[444.6155621]\n",
      "[445.88483671]\n",
      "[447.14627413]\n",
      "[448.41258588]\n",
      "[449.68379079]\n",
      "[450.9471466]\n",
      "[452.21538414]\n",
      "[453.48852229]\n",
      "[454.7537994]\n",
      "[456.02396566]\n",
      "[457.28628924]\n",
      "[458.55349057]\n",
      "[459.82558849]\n",
      "[461.0898318]\n",
      "[462.35896027]\n",
      "[463.62025246]\n",
      "[464.88641842]\n",
      "[466.15747697]\n",
      "[467.42068732]\n",
      "[468.68877885]\n",
      "[469.96177041]\n",
      "[471.22690184]\n",
      "[472.49692187]\n",
      "[473.75910011]\n",
      "[475.02615553]\n",
      "[476.29810699]\n",
      "[477.56220474]\n",
      "[478.8311871]\n",
      "[480.09233407]\n",
      "[481.35835424]\n",
      "[482.62926645]\n",
      "[483.89233137]\n",
      "[485.16027689]\n",
      "[486.43312189]\n",
      "[487.69810766]\n",
      "[488.96798146]\n",
      "[490.23001438]\n",
      "[491.49692393]\n",
      "[492.76872895]\n",
      "[494.03268115]\n",
      "[495.3015174]\n",
      "[496.56251917]\n",
      "[497.82839359]\n",
      "[499.09915947]\n",
      "[500.36207896]\n",
      "[501.6298785]\n",
      "[502.90257695]\n",
      "[504.16741708]\n",
      "[505.43714468]\n",
      "[506.69903229]\n",
      "[507.96579597]\n",
      "[509.23745456]\n",
      "[510.50126124]\n",
      "[511.76995141]\n",
      "[513.03080799]\n",
      "[514.29653666]\n",
      "[515.56715624]\n",
      "[516.82993032]\n",
      "[518.0975839]\n",
      "[519.37013581]\n",
      "[520.63483031]\n",
      "[521.90441172]\n",
      "[523.16615405]\n",
      "[524.43277189]\n",
      "[525.70428406]\n",
      "[526.96794524]\n",
      "[528.23648933]\n",
      "[529.49720075]\n",
      "[530.76278369]\n",
      "[532.03325697]\n",
      "[533.29588567]\n",
      "[534.56339329]\n",
      "[535.83579869]\n",
      "[537.10034758]\n",
      "[538.36978282]\n",
      "[539.63137988]\n",
      "[540.89785188]\n",
      "[542.16921766]\n",
      "[543.43273335]\n",
      "[544.70113139]\n",
      "[545.96169766]\n"
     ]
    },
    {
     "ename": "KeyboardInterrupt",
     "evalue": "",
     "output_type": "error",
     "traceback": [
      "\u001b[0;31m---------------------------------------------------------------------------\u001b[0m",
      "\u001b[0;31mKeyboardInterrupt\u001b[0m                         Traceback (most recent call last)",
      "\u001b[0;32m<ipython-input-15-828a9a4cc269>\u001b[0m in \u001b[0;36m<module>\u001b[0;34m\u001b[0m\n\u001b[1;32m      2\u001b[0m \u001b[0;34m\u001b[0m\u001b[0m\n\u001b[1;32m      3\u001b[0m \u001b[0mtic\u001b[0m \u001b[0;34m=\u001b[0m \u001b[0mtime\u001b[0m\u001b[0;34m.\u001b[0m\u001b[0mtime\u001b[0m\u001b[0;34m(\u001b[0m\u001b[0;34m)\u001b[0m\u001b[0;34m\u001b[0m\u001b[0;34m\u001b[0m\u001b[0m\n\u001b[0;32m----> 4\u001b[0;31m \u001b[0mt\u001b[0m\u001b[0;34m,\u001b[0m \u001b[0my\u001b[0m\u001b[0;34m,\u001b[0m \u001b[0mh\u001b[0m \u001b[0;34m=\u001b[0m \u001b[0mrk_45\u001b[0m\u001b[0;34m(\u001b[0m\u001b[0mode_wrapper\u001b[0m\u001b[0;34m,\u001b[0m \u001b[0;36m0.0\u001b[0m\u001b[0;34m,\u001b[0m \u001b[0mTF\u001b[0m\u001b[0;34m,\u001b[0m \u001b[0mnp\u001b[0m\u001b[0;34m.\u001b[0m\u001b[0mconcatenate\u001b[0m\u001b[0;34m(\u001b[0m\u001b[0;34m(\u001b[0m\u001b[0mr0\u001b[0m\u001b[0;34m,\u001b[0m \u001b[0mv0\u001b[0m\u001b[0;34m)\u001b[0m\u001b[0;34m)\u001b[0m\u001b[0;34m,\u001b[0m \u001b[0mh_min\u001b[0m\u001b[0;34m,\u001b[0m \u001b[0mTOL\u001b[0m\u001b[0;34m)\u001b[0m\u001b[0;34m\u001b[0m\u001b[0;34m\u001b[0m\u001b[0m\n\u001b[0m\u001b[1;32m      5\u001b[0m \u001b[0mtoc\u001b[0m \u001b[0;34m=\u001b[0m \u001b[0mtime\u001b[0m\u001b[0;34m.\u001b[0m\u001b[0mtime\u001b[0m\u001b[0;34m(\u001b[0m\u001b[0;34m)\u001b[0m\u001b[0;34m\u001b[0m\u001b[0;34m\u001b[0m\u001b[0m\n\u001b[1;32m      6\u001b[0m \u001b[0mprint\u001b[0m\u001b[0;34m(\u001b[0m\u001b[0mstr\u001b[0m\u001b[0;34m(\u001b[0m\u001b[0mtoc\u001b[0m\u001b[0;34m-\u001b[0m\u001b[0mtic\u001b[0m\u001b[0;34m)\u001b[0m \u001b[0;34m+\u001b[0m \u001b[0;34m\"s\"\u001b[0m\u001b[0;34m)\u001b[0m\u001b[0;34m\u001b[0m\u001b[0;34m\u001b[0m\u001b[0m\n",
      "\u001b[0;32m<ipython-input-14-20b54be75d12>\u001b[0m in \u001b[0;36mrk_45\u001b[0;34m(f, t0, tf, y0, h, tol)\u001b[0m\n\u001b[1;32m     31\u001b[0m         \u001b[0mk_0\u001b[0m \u001b[0;34m=\u001b[0m \u001b[0mf\u001b[0m\u001b[0;34m(\u001b[0m\u001b[0mt_h\u001b[0m \u001b[0;34m+\u001b[0m \u001b[0mh\u001b[0m       \u001b[0;34m,\u001b[0m \u001b[0mu_h\u001b[0m\u001b[0;34m[\u001b[0m\u001b[0;34m-\u001b[0m\u001b[0;36m1\u001b[0m\u001b[0;34m]\u001b[0m\u001b[0;34m)\u001b[0m\u001b[0;34m\u001b[0m\u001b[0;34m\u001b[0m\u001b[0m\n\u001b[1;32m     32\u001b[0m         \u001b[0mk_1\u001b[0m \u001b[0;34m=\u001b[0m \u001b[0mf\u001b[0m\u001b[0;34m(\u001b[0m\u001b[0mt_h\u001b[0m \u001b[0;34m+\u001b[0m \u001b[0mC\u001b[0m\u001b[0;34m[\u001b[0m\u001b[0;36m1\u001b[0m\u001b[0;34m]\u001b[0m \u001b[0;34m*\u001b[0m \u001b[0mh\u001b[0m\u001b[0;34m,\u001b[0m \u001b[0mu_h\u001b[0m\u001b[0;34m[\u001b[0m\u001b[0;34m-\u001b[0m\u001b[0;36m1\u001b[0m\u001b[0;34m]\u001b[0m \u001b[0;34m+\u001b[0m \u001b[0mh\u001b[0m \u001b[0;34m*\u001b[0m \u001b[0;34m(\u001b[0m\u001b[0mA\u001b[0m\u001b[0;34m[\u001b[0m\u001b[0;36m1\u001b[0m\u001b[0;34m,\u001b[0m\u001b[0;36m0\u001b[0m\u001b[0;34m]\u001b[0m\u001b[0;34m*\u001b[0m\u001b[0mk_0\u001b[0m\u001b[0;34m)\u001b[0m\u001b[0;34m)\u001b[0m\u001b[0;34m\u001b[0m\u001b[0;34m\u001b[0m\u001b[0m\n\u001b[0;32m---> 33\u001b[0;31m         \u001b[0mk_2\u001b[0m \u001b[0;34m=\u001b[0m \u001b[0mf\u001b[0m\u001b[0;34m(\u001b[0m\u001b[0mt_h\u001b[0m \u001b[0;34m+\u001b[0m \u001b[0mC\u001b[0m\u001b[0;34m[\u001b[0m\u001b[0;36m2\u001b[0m\u001b[0;34m]\u001b[0m \u001b[0;34m*\u001b[0m \u001b[0mh\u001b[0m\u001b[0;34m,\u001b[0m \u001b[0mu_h\u001b[0m\u001b[0;34m[\u001b[0m\u001b[0;34m-\u001b[0m\u001b[0;36m1\u001b[0m\u001b[0;34m]\u001b[0m \u001b[0;34m+\u001b[0m \u001b[0mh\u001b[0m \u001b[0;34m*\u001b[0m \u001b[0;34m(\u001b[0m\u001b[0mA\u001b[0m\u001b[0;34m[\u001b[0m\u001b[0;36m2\u001b[0m\u001b[0;34m,\u001b[0m\u001b[0;36m0\u001b[0m\u001b[0;34m]\u001b[0m\u001b[0;34m*\u001b[0m\u001b[0mk_0\u001b[0m \u001b[0;34m+\u001b[0m \u001b[0mA\u001b[0m\u001b[0;34m[\u001b[0m\u001b[0;36m2\u001b[0m\u001b[0;34m,\u001b[0m\u001b[0;36m1\u001b[0m\u001b[0;34m]\u001b[0m\u001b[0;34m*\u001b[0m\u001b[0mk_1\u001b[0m\u001b[0;34m)\u001b[0m\u001b[0;34m)\u001b[0m\u001b[0;34m\u001b[0m\u001b[0;34m\u001b[0m\u001b[0m\n\u001b[0m\u001b[1;32m     34\u001b[0m         \u001b[0mk_3\u001b[0m \u001b[0;34m=\u001b[0m \u001b[0mf\u001b[0m\u001b[0;34m(\u001b[0m\u001b[0mt_h\u001b[0m \u001b[0;34m+\u001b[0m \u001b[0mC\u001b[0m\u001b[0;34m[\u001b[0m\u001b[0;36m3\u001b[0m\u001b[0;34m]\u001b[0m \u001b[0;34m*\u001b[0m \u001b[0mh\u001b[0m\u001b[0;34m,\u001b[0m \u001b[0mu_h\u001b[0m\u001b[0;34m[\u001b[0m\u001b[0;34m-\u001b[0m\u001b[0;36m1\u001b[0m\u001b[0;34m]\u001b[0m \u001b[0;34m+\u001b[0m \u001b[0mh\u001b[0m \u001b[0;34m*\u001b[0m \u001b[0;34m(\u001b[0m\u001b[0mA\u001b[0m\u001b[0;34m[\u001b[0m\u001b[0;36m3\u001b[0m\u001b[0;34m,\u001b[0m\u001b[0;36m0\u001b[0m\u001b[0;34m]\u001b[0m\u001b[0;34m*\u001b[0m\u001b[0mk_0\u001b[0m \u001b[0;34m+\u001b[0m \u001b[0mA\u001b[0m\u001b[0;34m[\u001b[0m\u001b[0;36m3\u001b[0m\u001b[0;34m,\u001b[0m\u001b[0;36m1\u001b[0m\u001b[0;34m]\u001b[0m\u001b[0;34m*\u001b[0m\u001b[0mk_1\u001b[0m \u001b[0;34m+\u001b[0m \u001b[0mA\u001b[0m\u001b[0;34m[\u001b[0m\u001b[0;36m3\u001b[0m\u001b[0;34m,\u001b[0m\u001b[0;36m2\u001b[0m\u001b[0;34m]\u001b[0m\u001b[0;34m*\u001b[0m\u001b[0mk_2\u001b[0m\u001b[0;34m)\u001b[0m\u001b[0;34m)\u001b[0m\u001b[0;34m\u001b[0m\u001b[0;34m\u001b[0m\u001b[0m\n\u001b[1;32m     35\u001b[0m         \u001b[0mk_4\u001b[0m \u001b[0;34m=\u001b[0m \u001b[0mf\u001b[0m\u001b[0;34m(\u001b[0m\u001b[0mt_h\u001b[0m \u001b[0;34m+\u001b[0m \u001b[0mC\u001b[0m\u001b[0;34m[\u001b[0m\u001b[0;36m4\u001b[0m\u001b[0;34m]\u001b[0m \u001b[0;34m*\u001b[0m \u001b[0mh\u001b[0m\u001b[0;34m,\u001b[0m \u001b[0mu_h\u001b[0m\u001b[0;34m[\u001b[0m\u001b[0;34m-\u001b[0m\u001b[0;36m1\u001b[0m\u001b[0;34m]\u001b[0m \u001b[0;34m+\u001b[0m \u001b[0mh\u001b[0m \u001b[0;34m*\u001b[0m \u001b[0;34m(\u001b[0m\u001b[0mA\u001b[0m\u001b[0;34m[\u001b[0m\u001b[0;36m4\u001b[0m\u001b[0;34m,\u001b[0m\u001b[0;36m0\u001b[0m\u001b[0;34m]\u001b[0m\u001b[0;34m*\u001b[0m\u001b[0mk_0\u001b[0m \u001b[0;34m+\u001b[0m \u001b[0mA\u001b[0m\u001b[0;34m[\u001b[0m\u001b[0;36m4\u001b[0m\u001b[0;34m,\u001b[0m\u001b[0;36m1\u001b[0m\u001b[0;34m]\u001b[0m\u001b[0;34m*\u001b[0m\u001b[0mk_1\u001b[0m \u001b[0;34m+\u001b[0m \u001b[0mA\u001b[0m\u001b[0;34m[\u001b[0m\u001b[0;36m4\u001b[0m\u001b[0;34m,\u001b[0m\u001b[0;36m2\u001b[0m\u001b[0;34m]\u001b[0m\u001b[0;34m*\u001b[0m\u001b[0mk_2\u001b[0m \u001b[0;34m+\u001b[0m \u001b[0mA\u001b[0m\u001b[0;34m[\u001b[0m\u001b[0;36m4\u001b[0m\u001b[0;34m,\u001b[0m\u001b[0;36m3\u001b[0m\u001b[0;34m]\u001b[0m\u001b[0;34m*\u001b[0m\u001b[0mk_3\u001b[0m\u001b[0;34m)\u001b[0m\u001b[0;34m)\u001b[0m\u001b[0;34m\u001b[0m\u001b[0;34m\u001b[0m\u001b[0m\n",
      "\u001b[0;32m<ipython-input-15-828a9a4cc269>\u001b[0m in \u001b[0;36m<lambda>\u001b[0;34m(t, y)\u001b[0m\n\u001b[0;32m----> 1\u001b[0;31m \u001b[0mode_wrapper\u001b[0m \u001b[0;34m=\u001b[0m \u001b[0;32mlambda\u001b[0m \u001b[0mt\u001b[0m\u001b[0;34m,\u001b[0m \u001b[0my\u001b[0m\u001b[0;34m:\u001b[0m \u001b[0mode\u001b[0m\u001b[0;34m(\u001b[0m\u001b[0mt\u001b[0m\u001b[0;34m,\u001b[0m \u001b[0my\u001b[0m\u001b[0;34m,\u001b[0m \u001b[0mMU\u001b[0m\u001b[0;34m)\u001b[0m\u001b[0;34m\u001b[0m\u001b[0;34m\u001b[0m\u001b[0m\n\u001b[0m\u001b[1;32m      2\u001b[0m \u001b[0;34m\u001b[0m\u001b[0m\n\u001b[1;32m      3\u001b[0m \u001b[0mtic\u001b[0m \u001b[0;34m=\u001b[0m \u001b[0mtime\u001b[0m\u001b[0;34m.\u001b[0m\u001b[0mtime\u001b[0m\u001b[0;34m(\u001b[0m\u001b[0;34m)\u001b[0m\u001b[0;34m\u001b[0m\u001b[0;34m\u001b[0m\u001b[0m\n\u001b[1;32m      4\u001b[0m \u001b[0mt\u001b[0m\u001b[0;34m,\u001b[0m \u001b[0my\u001b[0m\u001b[0;34m,\u001b[0m \u001b[0mh\u001b[0m \u001b[0;34m=\u001b[0m \u001b[0mrk_45\u001b[0m\u001b[0;34m(\u001b[0m\u001b[0mode_wrapper\u001b[0m\u001b[0;34m,\u001b[0m \u001b[0;36m0.0\u001b[0m\u001b[0;34m,\u001b[0m \u001b[0mTF\u001b[0m\u001b[0;34m,\u001b[0m \u001b[0mnp\u001b[0m\u001b[0;34m.\u001b[0m\u001b[0mconcatenate\u001b[0m\u001b[0;34m(\u001b[0m\u001b[0;34m(\u001b[0m\u001b[0mr0\u001b[0m\u001b[0;34m,\u001b[0m \u001b[0mv0\u001b[0m\u001b[0;34m)\u001b[0m\u001b[0;34m)\u001b[0m\u001b[0;34m,\u001b[0m \u001b[0mh_min\u001b[0m\u001b[0;34m,\u001b[0m \u001b[0mTOL\u001b[0m\u001b[0;34m)\u001b[0m\u001b[0;34m\u001b[0m\u001b[0;34m\u001b[0m\u001b[0m\n\u001b[1;32m      5\u001b[0m \u001b[0mtoc\u001b[0m \u001b[0;34m=\u001b[0m \u001b[0mtime\u001b[0m\u001b[0;34m.\u001b[0m\u001b[0mtime\u001b[0m\u001b[0;34m(\u001b[0m\u001b[0;34m)\u001b[0m\u001b[0;34m\u001b[0m\u001b[0;34m\u001b[0m\u001b[0m\n",
      "\u001b[0;32m<ipython-input-14-20b54be75d12>\u001b[0m in \u001b[0;36mode\u001b[0;34m(t, y, mu)\u001b[0m\n\u001b[1;32m     75\u001b[0m     \u001b[0mr_new\u001b[0m \u001b[0;34m=\u001b[0m \u001b[0mv\u001b[0m\u001b[0;34m\u001b[0m\u001b[0;34m\u001b[0m\u001b[0m\n\u001b[1;32m     76\u001b[0m     \u001b[0mr_norm\u001b[0m \u001b[0;34m=\u001b[0m \u001b[0mnp\u001b[0m\u001b[0;34m.\u001b[0m\u001b[0mlinalg\u001b[0m\u001b[0;34m.\u001b[0m\u001b[0mnorm\u001b[0m\u001b[0;34m(\u001b[0m\u001b[0mr\u001b[0m\u001b[0;34m)\u001b[0m\u001b[0;34m\u001b[0m\u001b[0;34m\u001b[0m\u001b[0m\n\u001b[0;32m---> 77\u001b[0;31m     \u001b[0mv_new\u001b[0m \u001b[0;34m=\u001b[0m \u001b[0;34m-\u001b[0m \u001b[0mr\u001b[0m \u001b[0;34m*\u001b[0m \u001b[0mmu\u001b[0m \u001b[0;34m/\u001b[0m \u001b[0mr_norm\u001b[0m\u001b[0;34m**\u001b[0m\u001b[0;36m3\u001b[0m\u001b[0;34m\u001b[0m\u001b[0;34m\u001b[0m\u001b[0m\n\u001b[0m\u001b[1;32m     78\u001b[0m \u001b[0;34m\u001b[0m\u001b[0m\n\u001b[1;32m     79\u001b[0m     \u001b[0;31m# combine the position and velocity into the output vector\u001b[0m\u001b[0;34m\u001b[0m\u001b[0;34m\u001b[0m\u001b[0;34m\u001b[0m\u001b[0m\n",
      "\u001b[0;31mKeyboardInterrupt\u001b[0m: "
     ]
    }
   ],
   "source": [
    "ode_wrapper = lambda t, y: ode(t, y, MU)\n",
    "\n",
    "tic = time.time()\n",
    "t, y, h = rk_45(ode_wrapper, 0.0, TF, np.concatenate((r0, v0)), h_min, TOL) \n",
    "toc = time.time()\n",
    "print(str(toc-tic) + \"s\")"
   ]
  },
  {
   "cell_type": "markdown",
   "id": "0afe2c31",
   "metadata": {},
   "source": [
    "### Write result of CPU in a csv file"
   ]
  },
  {
   "cell_type": "code",
   "execution_count": 15,
   "id": "2800c95d",
   "metadata": {},
   "outputs": [
    {
     "name": "stdout",
     "output_type": "stream",
     "text": [
      "/home/davide/Projects/runge_kutta_5/jupyter/adimensional/orbit_csv\n",
      "rk5_adim_jupyter_cpu_h4.0.csv updated.\n",
      "/home/davide/Projects/runge_kutta_5/jupyter/adimensional/orbit_csv\n",
      "t_rk5_adim_jupyter_cpu_h4.0.csv updated.\n"
     ]
    }
   ],
   "source": [
    "# y_anormalized = np.concatenate((y[:, :3] * R, y[:, 3:] * V), axis=-1)\n",
    "\n",
    "write_to_csv(y, \"y_rk5_tol09_jupyter_cpu.csv\")\n",
    "write_to_csv(t, \"t_rk5_tol09_jupyter_cpu.csv\")"
   ]
  },
  {
   "cell_type": "markdown",
   "id": "de5f1df8",
   "metadata": {},
   "source": [
    "## FPGA computation"
   ]
  },
  {
   "cell_type": "markdown",
   "id": "23ab624e",
   "metadata": {},
   "source": [
    "### Prepare memory buffer"
   ]
  },
  {
   "cell_type": "code",
   "execution_count": 21,
   "id": "8fdd0890",
   "metadata": {},
   "outputs": [],
   "source": [
    "buffer_y_FPGA = allocate(( max_rows, N ), np.float64)\n",
    "buffer_t_FPGA = allocate(( max_rows, ), np.float64)"
   ]
  },
  {
   "cell_type": "code",
   "execution_count": 22,
   "id": "5a10ebad",
   "metadata": {},
   "outputs": [],
   "source": [
    "buffer_y_FPGA[0] = np.concatenate(((r0, v0)))\n",
    "buffer_t_FPGA[0] = 0.0"
   ]
  },
  {
   "cell_type": "code",
   "execution_count": 23,
   "id": "19913487",
   "metadata": {},
   "outputs": [
    {
     "name": "stdout",
     "output_type": "stream",
     "text": [
      "[[ 6.89365420e+03  6.07768616e+02  1.05268612e+03 -1.31035840e+00\n",
      "   3.71570593e+00  6.43579146e+00]\n",
      " [ 0.00000000e+00  0.00000000e+00  0.00000000e+00  0.00000000e+00\n",
      "   0.00000000e+00  0.00000000e+00]\n",
      " [ 0.00000000e+00  0.00000000e+00  0.00000000e+00  0.00000000e+00\n",
      "   0.00000000e+00  0.00000000e+00]\n",
      " ...\n",
      " [ 0.00000000e+00  0.00000000e+00  0.00000000e+00  0.00000000e+00\n",
      "   0.00000000e+00  0.00000000e+00]\n",
      " [ 0.00000000e+00  0.00000000e+00  0.00000000e+00  0.00000000e+00\n",
      "   0.00000000e+00  0.00000000e+00]\n",
      " [ 0.00000000e+00  0.00000000e+00  0.00000000e+00  0.00000000e+00\n",
      "   0.00000000e+00  0.00000000e+00]]\n",
      "[0. 0. 0. ... 0. 0. 0.]\n"
     ]
    }
   ],
   "source": [
    "print(buffer_y_FPGA)\n",
    "print(buffer_t_FPGA)"
   ]
  },
  {
   "cell_type": "code",
   "execution_count": 24,
   "id": "964ab8b8",
   "metadata": {},
   "outputs": [],
   "source": [
    "# https://stackoverflow.com/questions/16444726/binary-representation-of-float-in-python-bits-not-hex\n",
    "\n",
    "import struct\n",
    "def float64_to_binary(num):\n",
    "    return ''.join('{:0>8b}'.format(c) for c in struct.pack('!d', num))"
   ]
  },
  {
   "cell_type": "code",
   "execution_count": 25,
   "id": "8e75266b",
   "metadata": {},
   "outputs": [],
   "source": [
    "import struct\n",
    "\n",
    "def binary_to_float64(binary_str):\n",
    "    # Convert the binary string to a bytes object\n",
    "    b = int(binary_str, 2).to_bytes(8, byteorder='big')\n",
    "\n",
    "    # Unpack the bytes object into a float64 value\n",
    "    f = struct.unpack('!d', b)[0]\n",
    "\n",
    "    return f"
   ]
  },
  {
   "cell_type": "code",
   "execution_count": 26,
   "id": "e1ff605a",
   "metadata": {},
   "outputs": [
    {
     "name": "stdout",
     "output_type": "stream",
     "text": [
      "True\n"
     ]
    }
   ],
   "source": [
    "# Write buffer addresses to AXI lite registers\n",
    "# TODO change addresses accordingly to `VITIS_ROOT/solution1/impl/misc/drivers/euler_propagator_v1_0/src/xeuler_propagator_hw.h`\n",
    "\n",
    "ADDR_YY   = 0x10\n",
    "ADDR_TT   = 0x1c\n",
    "ADDR_TF   = 0x28\n",
    "ADDR_H0   = 0x34\n",
    "ADDR_TOL  = 0x40\n",
    "ADDR_MU   = 0x4c\n",
    "ADDR_SIZE = 0x58\n",
    "\n",
    "tf_bin = float64_to_binary(TF)\n",
    "MSB_tf = int(tf_bin[:32], 2)\n",
    "LSB_tf = int(tf_bin[32:], 2)\n",
    "\n",
    "h0_bin = float64_to_binary(h0)\n",
    "MSB_h = int(h0_bin[:32], 2)\n",
    "LSB_h = int(h0_bin[32:], 2)\n",
    "\n",
    "tol_bin = float64_to_binary(TOL)\n",
    "MSB_tol = int(tol_bin[:32], 2)\n",
    "LSB_tol = int(tol_bin[32:], 2)\n",
    "\n",
    "mu_bin = float64_to_binary(MU)\n",
    "MSB_mu = int(mu_bin[:32], 2)\n",
    "LSB_mu = int(mu_bin[32:], 2)\n",
    "\n",
    "rk45_ip.write(ADDR_YY, buffer_y_FPGA.physical_address)\n",
    "rk45_ip.write(ADDR_TT, buffer_t_FPGA.physical_address)\n",
    "\n",
    "rk45_ip.write(ADDR_TF       , LSB_tf)\n",
    "rk45_ip.write(ADDR_TF + 0x04, MSB_tf)\n",
    "\n",
    "rk45_ip.write(ADDR_H0       , LSB_h)\n",
    "rk45_ip.write(ADDR_H0 + 0x04, MSB_h)\n",
    "\n",
    "rk45_ip.write(ADDR_TOL       , LSB_tol)\n",
    "rk45_ip.write(ADDR_TOL + 0x04, MSB_tol)\n",
    "\n",
    "rk45_ip.write(ADDR_MU       , LSB_mu)\n",
    "rk45_ip.write(ADDR_MU + 0x04, MSB_mu)\n",
    "\n",
    "# Check correctness\n",
    "# Information for reading and writing more than 32 bit https://discuss.pynq.io/t/how-can-i-write-a-64-bit-number-in-control-register-from-python/5519/3?u=davide-giacomini\n",
    "tf_memory_raw     = rk45_ip.mmio.read(ADDR_TF,  length=8)\n",
    "h_memory_raw      = rk45_ip.mmio.read(ADDR_H0,   length=8)\n",
    "mu_memory_raw     = rk45_ip.mmio.read(ADDR_MU,  length=8)\n",
    "tol_memory_raw    = rk45_ip.mmio.read(ADDR_TOL,  length=8)\n",
    "\n",
    "print(      \n",
    "      TF          == binary_to_float64(bin(tf_memory_raw)[2:].zfill(64))      and\n",
    "      h0          == binary_to_float64(bin(h_memory_raw)[2:].zfill(64))       and\n",
    "      MU          == binary_to_float64(bin(mu_memory_raw)[2:].zfill(64))      and\n",
    "      TOL         == binary_to_float64(bin(tol_memory_raw)[2:].zfill(64))\n",
    "      )"
   ]
  },
  {
   "cell_type": "markdown",
   "id": "30355400",
   "metadata": {},
   "source": [
    "### Declare function"
   ]
  },
  {
   "cell_type": "code",
   "execution_count": 27,
   "id": "ae843f1e",
   "metadata": {},
   "outputs": [],
   "source": [
    "def runge_kutta_5_fpga():\n",
    "    \n",
    "    rk45_ip.write(0x00, 1)\n",
    "    while rk45_ip.read(0x00) & 0x04 != 0x04:\n",
    "        pass\n",
    "    # Mark this content invalid, so the processor fetches the data from the FPGA\n",
    "    buffer_y_FPGA.invalidate()\n",
    "    buffer_t_FPGA.invalidate()"
   ]
  },
  {
   "cell_type": "code",
   "execution_count": 28,
   "id": "b4f4898d",
   "metadata": {},
   "outputs": [
    {
     "name": "stdout",
     "output_type": "stream",
     "text": [
      "Average of 110.34538149499895 seconds\n"
     ]
    }
   ],
   "source": [
    "# The commented code uses the buttons of the FPGA\n",
    "iterations = 1\n",
    "time = timeit.timeit(lambda: runge_kutta_5_fpga(), number=iterations)\n",
    "print('Average of ' + str(time/iterations) + ' seconds')"
   ]
  },
  {
   "cell_type": "code",
   "execution_count": 29,
   "id": "aac46c33",
   "metadata": {},
   "outputs": [],
   "source": [
    "size = rk45_ip.mmio.read(ADDR_SIZE,  length=4)"
   ]
  },
  {
   "cell_type": "code",
   "execution_count": 30,
   "id": "b723a293",
   "metadata": {},
   "outputs": [
    {
     "name": "stdout",
     "output_type": "stream",
     "text": [
      "/home/xilinx/jupyter_notebooks/runge_kutta_45/orbit_csv\n",
      "y_fpga_tol09_jupyter.csv updated.\n",
      "/home/xilinx/jupyter_notebooks/runge_kutta_45/orbit_csv\n",
      "t_fpga_tol09_jupyter.csv updated.\n"
     ]
    }
   ],
   "source": [
    "write_to_csv(np.array(buffer_y_FPGA)[:size], \"y_fpga_tol09_jupyter.csv\")\n",
    "write_to_csv(np.array(buffer_t_FPGA)[:size], \"t_fpga_tol09_jupyter.csv\")"
   ]
  },
  {
   "cell_type": "markdown",
   "id": "ce6bc3be",
   "metadata": {},
   "source": [
    "## Check FPGA vs CPU"
   ]
  },
  {
   "cell_type": "code",
   "execution_count": null,
   "id": "45f962fb",
   "metadata": {},
   "outputs": [],
   "source": [
    "# correct = np.allclose(X_FPGA[:], X_CPU[:], rtol=1e-02)\n",
    "\n",
    "# for i in range(8):\n",
    "#     rgb[i].off()\n",
    "\n",
    "# if (correct):\n",
    "#     rgb[1].on()\n",
    "#     rgb[4].on()\n",
    "#     print(\"Yeee\")\n",
    "# else:\n",
    "#     rgb[2].on()\n",
    "#     rgb[5].on()\n",
    "#     print(\"Nope\")"
   ]
  },
  {
   "cell_type": "code",
   "execution_count": null,
   "id": "226fdc6e",
   "metadata": {},
   "outputs": [],
   "source": [
    "# Clear the rgb\n",
    "\n",
    "# for i in range(8):\n",
    "#     rgb[i].off()"
   ]
  },
  {
   "cell_type": "code",
   "execution_count": null,
   "id": "eacbf22e",
   "metadata": {},
   "outputs": [],
   "source": [
    "# buffer_X_FPGA.freebuffer()"
   ]
  }
 ],
 "metadata": {
  "kernelspec": {
   "display_name": "Python 3",
   "language": "python",
   "name": "python3"
  },
  "language_info": {
   "codemirror_mode": {
    "name": "ipython",
    "version": 3
   },
   "file_extension": ".py",
   "mimetype": "text/x-python",
   "name": "python",
   "nbconvert_exporter": "python",
   "pygments_lexer": "ipython3",
   "version": "3.8.2"
  }
 },
 "nbformat": 4,
 "nbformat_minor": 5
}
