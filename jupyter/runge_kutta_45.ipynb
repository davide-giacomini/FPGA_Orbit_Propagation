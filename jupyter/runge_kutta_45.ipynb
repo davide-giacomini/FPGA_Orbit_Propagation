{
 "cells": [
  {
   "attachments": {},
   "cell_type": "markdown",
   "id": "412403fa",
   "metadata": {},
   "source": [
    "# Script Runge Kutta 5(4) 7M"
   ]
  },
  {
   "attachments": {},
   "cell_type": "markdown",
   "id": "dac2a48d",
   "metadata": {},
   "source": [
    "## Import libraries and overlay"
   ]
  },
  {
   "attachments": {},
   "cell_type": "markdown",
   "id": "25f9b030",
   "metadata": {},
   "source": [
    "### Import Python libraries"
   ]
  },
  {
   "cell_type": "code",
   "execution_count": 1,
   "id": "2d83dbf1",
   "metadata": {},
   "outputs": [],
   "source": [
    "import numpy as np\n",
    "import timeit\n",
    "import math\n",
    "import time\n",
    "import os\n",
    "import errno\n",
    "import pandas as pd"
   ]
  },
  {
   "attachments": {},
   "cell_type": "markdown",
   "id": "87f96f54",
   "metadata": {},
   "source": [
    "### Import Pynq libraries"
   ]
  },
  {
   "cell_type": "code",
   "execution_count": 2,
   "id": "b0c55111",
   "metadata": {},
   "outputs": [
    {
     "data": {
      "application/javascript": "\ntry {\nrequire(['notebook/js/codecell'], function(codecell) {\n  codecell.CodeCell.options_default.highlight_modes[\n      'magic_text/x-csrc'] = {'reg':[/^%%microblaze/]};\n  Jupyter.notebook.events.one('kernel_ready.Kernel', function(){\n      Jupyter.notebook.get_cells().map(function(cell){\n          if (cell.cell_type == 'code'){ cell.auto_highlight(); } }) ;\n  });\n});\n} catch (e) {};\n"
     },
     "metadata": {},
     "output_type": "display_data"
    },
    {
     "data": {
      "application/javascript": "\ntry {\nrequire(['notebook/js/codecell'], function(codecell) {\n  codecell.CodeCell.options_default.highlight_modes[\n      'magic_text/x-csrc'] = {'reg':[/^%%pybind11/]};\n  Jupyter.notebook.events.one('kernel_ready.Kernel', function(){\n      Jupyter.notebook.get_cells().map(function(cell){\n          if (cell.cell_type == 'code'){ cell.auto_highlight(); } }) ;\n  });\n});\n} catch (e) {};\n"
     },
     "metadata": {},
     "output_type": "display_data"
    }
   ],
   "source": [
    "from pynq import Overlay\n",
    "from pynq import allocate"
   ]
  },
  {
   "attachments": {},
   "cell_type": "markdown",
   "id": "12b43eff",
   "metadata": {},
   "source": [
    "### Import overlay"
   ]
  },
  {
   "cell_type": "code",
   "execution_count": 3,
   "id": "9d3eae2f",
   "metadata": {},
   "outputs": [],
   "source": [
    "# Include overlay\n",
    "# TODO after bitstream generation, move into the folder of Pynq:\n",
    "#   - `VIVADO_ROOT/euler_propagator_vivado/euler_propagator_vivado.gen/sources_1/bd/design_1/hw_handoff/design_1.hwh` --> rename into `design_1_wrapper.hwh`\n",
    "#   - `VIVADO_ROOT/euler_propagator_vivado/euler_propagator_vivado.runs/impl_1/design_1_wrapper.bit`\n",
    "\n",
    "overlay = Overlay(\"./design_1_wrapper.bit\")"
   ]
  },
  {
   "cell_type": "code",
   "execution_count": 4,
   "id": "d2604052",
   "metadata": {},
   "outputs": [],
   "source": [
    "# overlay?"
   ]
  },
  {
   "attachments": {},
   "cell_type": "markdown",
   "id": "2eb1e50b",
   "metadata": {},
   "source": [
    "## Initialization"
   ]
  },
  {
   "attachments": {},
   "cell_type": "markdown",
   "id": "3d6fd658",
   "metadata": {},
   "source": [
    "## Utils"
   ]
  },
  {
   "cell_type": "code",
   "execution_count": 3,
   "id": "9b8fac91",
   "metadata": {},
   "outputs": [],
   "source": [
    "def write_to_csv(X, filename):\n",
    "    script_directory = os.getcwd()\n",
    "    \n",
    "    # Path to the directory\n",
    "    dir_path = script_directory + \"/orbit_csv\"\n",
    "\n",
    "    print(dir_path)\n",
    "\n",
    "    # Creates the directory if it doesn't exist\n",
    "    try:\n",
    "        os.makedirs(dir_path)\n",
    "    except OSError as e:\n",
    "        if e.errno != errno.EEXIST:\n",
    "            raise FileNotFoundError(\"Error: Unable to create directory \" + dir_path)\n",
    "\n",
    "    # Create dataframes for the array and matrix\n",
    "    X_df = pd.DataFrame(X)\n",
    "    \n",
    "    # Write the dataframes to CSV files\n",
    "    X_df.to_csv(os.path.join(dir_path, filename), index=False, header=None)\n",
    "\n",
    "    print(filename + \" updated.\")"
   ]
  },
  {
   "attachments": {},
   "cell_type": "markdown",
   "id": "d0ce5e00",
   "metadata": {},
   "source": [
    "### Declare IP "
   ]
  },
  {
   "cell_type": "code",
   "execution_count": 14,
   "id": "80a0ae80",
   "metadata": {},
   "outputs": [],
   "source": [
    "rk45_ip = overlay.runge_kutta_45_0"
   ]
  },
  {
   "cell_type": "code",
   "execution_count": 15,
   "id": "ead4f33f",
   "metadata": {},
   "outputs": [],
   "source": [
    "rk45_ip?"
   ]
  },
  {
   "attachments": {},
   "cell_type": "markdown",
   "id": "6bdefc7f",
   "metadata": {},
   "source": [
    "### Declaration of rk45_ip IP"
   ]
  },
  {
   "cell_type": "code",
   "execution_count": 16,
   "id": "67de0722",
   "metadata": {},
   "outputs": [
    {
     "data": {
      "text/plain": [
       "RegisterMap {\n",
       "  CTRL = Register(AP_START=0, AP_DONE=0, AP_IDLE=1, AP_READY=0, RESERVED_1=0, AUTO_RESTART=0, RESERVED_2=0, INTERRUPT=0, RESERVED_3=0),\n",
       "  GIER = Register(Enable=0, RESERVED=0),\n",
       "  IP_IER = Register(CHAN0_INT_EN=0, CHAN1_INT_EN=0, RESERVED_0=0),\n",
       "  IP_ISR = Register(CHAN0_INT_ST=0, CHAN1_INT_ST=0, RESERVED_0=0),\n",
       "  yy_1 = Register(yy=write-only),\n",
       "  yy_2 = Register(yy=write-only),\n",
       "  tt_1 = Register(tt=write-only),\n",
       "  tt_2 = Register(tt=write-only),\n",
       "  tf_1 = Register(tf=write-only),\n",
       "  tf_2 = Register(tf=write-only),\n",
       "  h0_1 = Register(h0=write-only),\n",
       "  h0_2 = Register(h0=write-only),\n",
       "  tol_1 = Register(tol=write-only),\n",
       "  tol_2 = Register(tol=write-only),\n",
       "  mu_1 = Register(mu=write-only),\n",
       "  mu_2 = Register(mu=write-only),\n",
       "  size = Register(size=0),\n",
       "  size_ctrl = Register(size_ap_vld=0, RESERVED=0)\n",
       "}"
      ]
     },
     "execution_count": 16,
     "metadata": {},
     "output_type": "execute_result"
    }
   ],
   "source": [
    "rk45_ip.register_map"
   ]
  },
  {
   "cell_type": "code",
   "execution_count": 17,
   "id": "ab0ec96d",
   "metadata": {},
   "outputs": [
    {
     "data": {
      "text/plain": [
       "Register(AP_START=0, AP_DONE=0, AP_IDLE=1, AP_READY=0, RESERVED_1=0, AUTO_RESTART=0, RESERVED_2=0, INTERRUPT=0, RESERVED_3=0)"
      ]
     },
     "execution_count": 17,
     "metadata": {},
     "output_type": "execute_result"
    }
   ],
   "source": [
    "rk45_ip.register_map.CTRL"
   ]
  },
  {
   "cell_type": "code",
   "execution_count": 18,
   "id": "50ec975f",
   "metadata": {},
   "outputs": [
    {
     "data": {
      "text/plain": [
       "'0b100'"
      ]
     },
     "execution_count": 18,
     "metadata": {},
     "output_type": "execute_result"
    }
   ],
   "source": [
    "bin(rk45_ip.read(0x00))"
   ]
  },
  {
   "attachments": {},
   "cell_type": "markdown",
   "id": "7ddc8970",
   "metadata": {},
   "source": [
    "### Constant declaration and initialization"
   ]
  },
  {
   "cell_type": "code",
   "execution_count": 4,
   "id": "e75a21af",
   "metadata": {},
   "outputs": [],
   "source": [
    "D = 3\n",
    "N = 2*D\n",
    "\n",
    "T_REV = 5828.516637686026\n",
    "N_REV = 5\n",
    "T0 = 0.0\n",
    "TF = T_REV*N_REV # Oltre a 1284s l'errore porta h a frazioni di secondo. In simulazione non accade\n",
    "MU = 398600.4418\n",
    "TOL = 1e-09\n",
    "\n",
    "H0 = 15.0\n",
    "H_MIN = 0.1\n",
    "H_MAX = 0.1*abs(TF-T0)  # Matlab default\n",
    "max_rows = math.ceil(TF/H_MIN) + 1\n",
    "\n",
    "r0 = np.array([6893.65420319622, 607.768615848904, 1052.68612189611])\n",
    "v0 = np.array([-1.31035840240472, 3.71570593010086, 6.43579145691966])"
   ]
  },
  {
   "attachments": {},
   "cell_type": "markdown",
   "id": "f5afa6e6",
   "metadata": {},
   "source": [
    "## CPU computation"
   ]
  },
  {
   "attachments": {},
   "cell_type": "markdown",
   "id": "0f66d429",
   "metadata": {},
   "source": [
    "### Functions definition"
   ]
  },
  {
   "cell_type": "code",
   "execution_count": 5,
   "id": "a060a607",
   "metadata": {},
   "outputs": [],
   "source": [
    "# RK5(4)7M CONSTANTS\n",
    "C = np.array([1/5, 3/10, 4/5, 8/9, 1, 1])\n",
    "\n",
    "A = np.array([[0, 0, 0, 0, 0],\n",
    "              [1/5, 0, 0, 0, 0],\n",
    "              [3/40, 9/40, 0, 0, 0],\n",
    "              [44/45, -56/15, 32/9, 0, 0],\n",
    "              [19372/6561, -25360/2187, 64448/6561, -212/729, 0],\n",
    "              [9017/3168, -355/33, 46732/5247, 49/176, -5103/18656]])\n",
    "\n",
    "B = np.array([35/384, 0, 500/1113, 125/192, -2187/6784, 11/84, 0])\n",
    "Bs = np.array([5179/57600, 0, 7571/16695, 393/640, -92097/339200, 187/2100, 1/40])\n",
    "\n",
    "def rk_45(f, t0, tf, y0, h0, atol, h_max, h_min):\n",
    "    \n",
    "    # Initialization\n",
    "    h = h0                  # intial dt\n",
    "    u_h = np.array([y0])        # initial shape = (0,6)\n",
    "    t_h = np.array([t0])        # initial shape = (0,1)\n",
    "    h_h = np.array([h0])    # initial shape = (0,1)\n",
    "\n",
    "    while (t_h[-1] < tf):\n",
    "\n",
    "        if (t_h[-1] + h > tf):\n",
    "            h = tf - t_h[-1]\n",
    "\n",
    "        # ciclo iterativo per calcolare la soluzione                \n",
    "        k_0 = f(t_h + h       , u_h[-1])\n",
    "        k_1 = f(t_h + C[1] * h, u_h[-1] + h * (A[1,0]*k_0))\n",
    "        k_2 = f(t_h + C[2] * h, u_h[-1] + h * (A[2,0]*k_0 + A[2,1]*k_1))\n",
    "        k_3 = f(t_h + C[3] * h, u_h[-1] + h * (A[3,0]*k_0 + A[3,1]*k_1 + A[3,2]*k_2))\n",
    "        k_4 = f(t_h + C[4] * h, u_h[-1] + h * (A[4,0]*k_0 + A[4,1]*k_1 + A[4,2]*k_2 + A[4,3]*k_3))\n",
    "        k_5 = f(t_h + C[5] * h, u_h[-1] + h * (A[5,0]*k_0 + A[5,1]*k_1 + A[5,2]*k_2 + A[5,3]*k_3 + A[5,4]*k_4))\n",
    "\n",
    "        tnew = t_h[-1] + h\n",
    "        ynew = u_h[-1] + h * (B[0]*k_0 + B[1]*k_1 + B[2]*k_2 + B[3]*k_3 + B[4]*k_4 + B[5]*k_5)\n",
    "\n",
    "        k_6 = f(tnew, ynew)\n",
    "\n",
    "        e = h * ( (B[0] - Bs[0])*k_0 + (B[1] - Bs[1])*k_1 + (B[2] - Bs[2])*k_2 + (B[3] - Bs[3])*k_3 + (B[4] - Bs[4])*k_4 + (B[5] - Bs[5])*k_5 + (B[6] - Bs[6])*k_6 )\n",
    "\n",
    "        err = np.linalg.norm(e)  # I don't use the norm to see the difference with the C implementation\n",
    "        scale = 1\n",
    "\n",
    "        if (err <= atol):\n",
    "            u_h = np.vstack((u_h, ynew))\n",
    "            t_h = np.vstack((t_h, t_h[-1] + h))\n",
    "\n",
    "            h_h = np.vstack(((h_h, h)))\n",
    "            \n",
    "            scale = 1.11\n",
    "\n",
    "        else:\n",
    "            scale = 0.99\n",
    "\n",
    "        # # compute the optimal step size\n",
    "        # scale = 0.9*(atol / np.linalg.norm(e))**(1/5)\n",
    "\n",
    "        h = max(min(h*scale, h_max), h_min)\n",
    "\n",
    "    return t_h, u_h, h_h\n",
    "\n",
    "\n",
    "def ode(t, y, mu):\n",
    "    # t: time variable (unused in this function, but required for use with ode45)\n",
    "    # in_vec: input vector of size 6 containing the position and velocity\n",
    "    # mu: a constant parameter\n",
    "    \n",
    "    # extract the position and velocity vectors from the input\n",
    "    r = y[0:3]\n",
    "    v = y[3:6]\n",
    "    \n",
    "    # compute the new position and velocity\n",
    "    r_new = v\n",
    "    v_new = - mu * r / np.linalg.norm(r)**3\n",
    "    \n",
    "    # combine the position and velocity into the output vector\n",
    "    out = np.concatenate((r_new, v_new))\n",
    "    \n",
    "    return out"
   ]
  },
  {
   "attachments": {},
   "cell_type": "markdown",
   "id": "51d8b72e",
   "metadata": {},
   "source": [
    "### Computation and storage non adimensional"
   ]
  },
  {
   "cell_type": "code",
   "execution_count": 6,
   "id": "5f179eea",
   "metadata": {
    "collapsed": true
   },
   "outputs": [
    {
     "name": "stdout",
     "output_type": "stream",
     "text": [
      "5.955270290374756s\n"
     ]
    }
   ],
   "source": [
    "ode_wrapper = lambda t, y: ode(t, y, MU)\n",
    "\n",
    "tic = time.time()\n",
    "t, y, h = rk_45(ode_wrapper, T0, TF, np.concatenate((r0, v0)), H0, TOL, H_MAX, H_MIN) \n",
    "toc = time.time()\n",
    "print(str(toc-tic) + \"s\")"
   ]
  },
  {
   "cell_type": "code",
   "execution_count": 7,
   "id": "2800c95d",
   "metadata": {},
   "outputs": [
    {
     "name": "stdout",
     "output_type": "stream",
     "text": [
      "/home/davide/Projects/runge_kutta_45/jupyter/orbit_csv\n",
      "y_rk5_tol09_jupyter_cpu.csv updated.\n",
      "/home/davide/Projects/runge_kutta_45/jupyter/orbit_csv\n",
      "t_rk5_tol09_jupyter_cpu.csv updated.\n"
     ]
    }
   ],
   "source": [
    "# y_anormalized = np.concatenate((y[:, :3] * R, y[:, 3:] * V), axis=-1)\n",
    "\n",
    "write_to_csv(y, \"y_rk5_tol09_jupyter_cpu.csv\")\n",
    "write_to_csv(t, \"t_rk5_tol09_jupyter_cpu.csv\")"
   ]
  },
  {
   "attachments": {},
   "cell_type": "markdown",
   "id": "e505d130",
   "metadata": {},
   "source": [
    "## Adimensional variables"
   ]
  },
  {
   "cell_type": "code",
   "execution_count": 8,
   "id": "594ba76c",
   "metadata": {},
   "outputs": [],
   "source": [
    "L = np.linalg.norm(r0)\n",
    "T = L / np.linalg.norm(v0)\n",
    "mu_adim = MU / ( L**3 / T**2 )\n",
    "\n",
    "r0_adim = r0 / L\n",
    "v0_adim = v0 / (L/T)\n",
    "h0_adim = H0 / T\n",
    "t0_adim = T0 / T\n",
    "tf_adim = TF / T\n",
    "tol_adim = TOL / L\n",
    "h_max_adim = H_MAX / T\n",
    "h_min_adim = H_MIN / T"
   ]
  },
  {
   "attachments": {},
   "cell_type": "markdown",
   "id": "74acd2c4",
   "metadata": {},
   "source": [
    "### Computation and storage adimensional"
   ]
  },
  {
   "cell_type": "code",
   "execution_count": 9,
   "id": "91cc25b0",
   "metadata": {},
   "outputs": [
    {
     "name": "stdout",
     "output_type": "stream",
     "text": [
      "6.34501838684082s\n"
     ]
    }
   ],
   "source": [
    "ode_wrapper = lambda t, y: ode(t, y, mu_adim)\n",
    "\n",
    "tic = time.time()\n",
    "t, y, h = rk_45(ode_wrapper, t0_adim, tf_adim, np.concatenate((r0_adim, v0_adim)), h0_adim, tol_adim, h_max_adim, h_min_adim)\n",
    "toc = time.time()\n",
    "print(str(toc-tic) + \"s\")"
   ]
  },
  {
   "cell_type": "code",
   "execution_count": 10,
   "id": "ec6e1d19",
   "metadata": {},
   "outputs": [
    {
     "name": "stdout",
     "output_type": "stream",
     "text": [
      "/home/davide/Projects/runge_kutta_45/jupyter/orbit_csv\n",
      "y_rk5_tol09_jupyter_adim_cpu.csv updated.\n",
      "/home/davide/Projects/runge_kutta_45/jupyter/orbit_csv\n",
      "t_rk5_tol09_jupyter_adim_cpu.csv updated.\n",
      "/home/davide/Projects/runge_kutta_45/jupyter/orbit_csv\n",
      "h_rk5_tol09_jupyter_adim_cpu.csv updated.\n"
     ]
    }
   ],
   "source": [
    "y_final_adim = np.concatenate((y[:, :3] * L, y[:, 3:] * L/T), axis=-1)\n",
    "t_final_adim = t * T\n",
    "h_final_adim = h * T\n",
    "\n",
    "write_to_csv(y_final_adim, \"y_rk5_tol09_jupyter_adim_cpu.csv\")\n",
    "write_to_csv(t_final_adim, \"t_rk5_tol09_jupyter_adim_cpu.csv\")\n",
    "write_to_csv(h_final_adim, \"h_rk5_tol09_jupyter_adim_cpu.csv\")"
   ]
  },
  {
   "attachments": {},
   "cell_type": "markdown",
   "id": "de5f1df8",
   "metadata": {},
   "source": [
    "## FPGA computation"
   ]
  },
  {
   "attachments": {},
   "cell_type": "markdown",
   "id": "23ab624e",
   "metadata": {},
   "source": [
    "### Prepare memory buffer"
   ]
  },
  {
   "cell_type": "code",
   "execution_count": 21,
   "id": "8fdd0890",
   "metadata": {},
   "outputs": [],
   "source": [
    "buffer_y_FPGA = allocate(( max_rows, N ), np.float64)\n",
    "buffer_t_FPGA = allocate(( max_rows, ), np.float64)"
   ]
  },
  {
   "attachments": {},
   "cell_type": "markdown",
   "id": "ea7f1ad0",
   "metadata": {},
   "source": [
    "### Non adimensional memory buffer"
   ]
  },
  {
   "cell_type": "code",
   "execution_count": 22,
   "id": "5a10ebad",
   "metadata": {},
   "outputs": [],
   "source": [
    "buffer_y_FPGA[0] = np.concatenate(((r0, v0)))\n",
    "buffer_t_FPGA[0] = T0"
   ]
  },
  {
   "attachments": {},
   "cell_type": "markdown",
   "id": "8e25cc17",
   "metadata": {},
   "source": [
    "### Adimensional memory buffer"
   ]
  },
  {
   "cell_type": "code",
   "execution_count": null,
   "id": "07a3abab",
   "metadata": {},
   "outputs": [],
   "source": [
    "buffer_y_FPGA[0] = np.concatenate(((r0_adim, v0_adim)))\n",
    "buffer_t_FPGA[0] = t0_adim"
   ]
  },
  {
   "cell_type": "code",
   "execution_count": 23,
   "id": "19913487",
   "metadata": {},
   "outputs": [
    {
     "name": "stdout",
     "output_type": "stream",
     "text": [
      "[[ 6.89365420e+03  6.07768616e+02  1.05268612e+03 -1.31035840e+00\n",
      "   3.71570593e+00  6.43579146e+00]\n",
      " [ 0.00000000e+00  0.00000000e+00  0.00000000e+00  0.00000000e+00\n",
      "   0.00000000e+00  0.00000000e+00]\n",
      " [ 0.00000000e+00  0.00000000e+00  0.00000000e+00  0.00000000e+00\n",
      "   0.00000000e+00  0.00000000e+00]\n",
      " ...\n",
      " [ 0.00000000e+00  0.00000000e+00  0.00000000e+00  0.00000000e+00\n",
      "   0.00000000e+00  0.00000000e+00]\n",
      " [ 0.00000000e+00  0.00000000e+00  0.00000000e+00  0.00000000e+00\n",
      "   0.00000000e+00  0.00000000e+00]\n",
      " [ 0.00000000e+00  0.00000000e+00  0.00000000e+00  0.00000000e+00\n",
      "   0.00000000e+00  0.00000000e+00]]\n",
      "[0. 0. 0. ... 0. 0. 0.]\n"
     ]
    }
   ],
   "source": [
    "print(buffer_y_FPGA)\n",
    "print(buffer_t_FPGA)"
   ]
  },
  {
   "cell_type": "code",
   "execution_count": 24,
   "id": "964ab8b8",
   "metadata": {},
   "outputs": [],
   "source": [
    "# https://stackoverflow.com/questions/16444726/binary-representation-of-float-in-python-bits-not-hex\n",
    "\n",
    "import struct\n",
    "def float64_to_binary(num):\n",
    "    return ''.join('{:0>8b}'.format(c) for c in struct.pack('!d', num))"
   ]
  },
  {
   "cell_type": "code",
   "execution_count": 25,
   "id": "8e75266b",
   "metadata": {},
   "outputs": [],
   "source": [
    "import struct\n",
    "\n",
    "def binary_to_float64(binary_str):\n",
    "    # Convert the binary string to a bytes object\n",
    "    b = int(binary_str, 2).to_bytes(8, byteorder='big')\n",
    "\n",
    "    # Unpack the bytes object into a float64 value\n",
    "    f = struct.unpack('!d', b)[0]\n",
    "\n",
    "    return f"
   ]
  },
  {
   "attachments": {},
   "cell_type": "markdown",
   "id": "16185523",
   "metadata": {},
   "source": [
    "### Non adimensional initialization"
   ]
  },
  {
   "cell_type": "code",
   "execution_count": 26,
   "id": "e1ff605a",
   "metadata": {},
   "outputs": [
    {
     "name": "stdout",
     "output_type": "stream",
     "text": [
      "True\n"
     ]
    }
   ],
   "source": [
    "# Write buffer addresses to AXI lite registers\n",
    "# TODO change addresses accordingly to `VITIS_ROOT/solution1/impl/misc/drivers/euler_propagator_v1_0/src/xeuler_propagator_hw.h`\n",
    "\n",
    "ADDR_YY     = 0x10\n",
    "ADDR_TT     = 0x1c\n",
    "ADDR_TF     = 0x28\n",
    "ADDR_H0     = 0x34\n",
    "ADDR_TOL    = 0x40\n",
    "ADDR_H_MAX  = 0x4c\n",
    "ADDR_H_MIN  = 0x58\n",
    "ADDR_MU     = 0x64\n",
    "ADDR_SIZE   = 0x70\n",
    "\n",
    "tf_bin = float64_to_binary(TF)\n",
    "MSB_tf = int(tf_bin[:32], 2)\n",
    "LSB_tf = int(tf_bin[32:], 2)\n",
    "\n",
    "h0_bin = float64_to_binary(H0)\n",
    "MSB_h = int(h0_bin[:32], 2)\n",
    "LSB_h = int(h0_bin[32:], 2)\n",
    "\n",
    "tol_bin = float64_to_binary(TOL)\n",
    "MSB_tol = int(tol_bin[:32], 2)\n",
    "LSB_tol = int(tol_bin[32:], 2)\n",
    "\n",
    "hmax_bin = float64_to_binary(H_MAX)\n",
    "MSB_hmax = int(hmax_bin[:32], 2)\n",
    "LSB_hmax = int(hmax_bin[32:], 2)\n",
    "\n",
    "hmin_bin = float64_to_binary(H_MIN)\n",
    "MSB_hmin = int(hmin_bin[:32], 2)\n",
    "LSB_hmin = int(hmin_bin[32:], 2)\n",
    "\n",
    "mu_bin = float64_to_binary(MU)\n",
    "MSB_mu = int(mu_bin[:32], 2)\n",
    "LSB_mu = int(mu_bin[32:], 2)\n",
    "\n",
    "rk45_ip.write(ADDR_YY, buffer_y_FPGA.physical_address)\n",
    "rk45_ip.write(ADDR_TT, buffer_t_FPGA.physical_address)\n",
    "\n",
    "rk45_ip.write(ADDR_TF       , LSB_tf)\n",
    "rk45_ip.write(ADDR_TF + 0x04, MSB_tf)\n",
    "\n",
    "rk45_ip.write(ADDR_H0       , LSB_h)\n",
    "rk45_ip.write(ADDR_H0 + 0x04, MSB_h)\n",
    "\n",
    "rk45_ip.write(ADDR_TOL       , LSB_tol)\n",
    "rk45_ip.write(ADDR_TOL + 0x04, MSB_tol)\n",
    "\n",
    "rk45_ip.write(ADDR_H_MAX       , LSB_hmax)\n",
    "rk45_ip.write(ADDR_H_MAX + 0x04, MSB_hmax)\n",
    "\n",
    "rk45_ip.write(ADDR_H_MIN       , LSB_hmin)\n",
    "rk45_ip.write(ADDR_H_MIN + 0x04, MSB_hmin)\n",
    "\n",
    "rk45_ip.write(ADDR_MU       , LSB_mu)\n",
    "rk45_ip.write(ADDR_MU + 0x04, MSB_mu)\n",
    "\n",
    "# Check correctness\n",
    "# Information for reading and writing more than 32 bit https://discuss.pynq.io/t/how-can-i-write-a-64-bit-number-in-control-register-from-python/5519/3?u=davide-giacomini\n",
    "tf_memory_raw     = rk45_ip.mmio.read(ADDR_TF,  length=8)\n",
    "h0_memory_raw     = rk45_ip.mmio.read(ADDR_H0,   length=8)\n",
    "hmax_memory_raw   = rk45_ip.mmio.read(ADDR_H_MAX,  length=8)\n",
    "hmin_memory_raw   = rk45_ip.mmio.read(ADDR_H_MIN,  length=8)\n",
    "mu_memory_raw     = rk45_ip.mmio.read(ADDR_MU,  length=8)\n",
    "tol_memory_raw    = rk45_ip.mmio.read(ADDR_TOL,  length=8)\n",
    "\n",
    "print(      \n",
    "      TF          == binary_to_float64(bin(tf_memory_raw)[2:].zfill(64))      and\n",
    "      H0          == binary_to_float64(bin(h0_memory_raw)[2:].zfill(64))      and\n",
    "      H_MAX       == binary_to_float64(bin(h0_memory_raw)[2:].zfill(64))      and\n",
    "      H_MIN       == binary_to_float64(bin(h0_memory_raw)[2:].zfill(64))      and\n",
    "      MU          == binary_to_float64(bin(mu_memory_raw)[2:].zfill(64))      and\n",
    "      TOL         == binary_to_float64(bin(tol_memory_raw)[2:].zfill(64))\n",
    "      )"
   ]
  },
  {
   "attachments": {},
   "cell_type": "markdown",
   "id": "4d8c29ae",
   "metadata": {},
   "source": [
    "### Adimensional initialization"
   ]
  },
  {
   "cell_type": "code",
   "execution_count": null,
   "id": "0a6a76e7",
   "metadata": {},
   "outputs": [],
   "source": [
    "# Write buffer addresses to AXI lite registers\n",
    "# TODO change addresses accordingly to `VITIS_ROOT/solution1/impl/misc/drivers/euler_propagator_v1_0/src/xeuler_propagator_hw.h`\n",
    "\n",
    "ADDR_YY     = 0x10\n",
    "ADDR_TT     = 0x1c\n",
    "ADDR_TF     = 0x28\n",
    "ADDR_H0     = 0x34\n",
    "ADDR_TOL    = 0x40\n",
    "ADDR_H_MAX  = 0x4c\n",
    "ADDR_H_MIN  = 0x58\n",
    "ADDR_MU     = 0x64\n",
    "ADDR_SIZE   = 0x70\n",
    "\n",
    "tf_bin = float64_to_binary(tf_adim)\n",
    "MSB_tf = int(tf_bin[:32], 2)\n",
    "LSB_tf = int(tf_bin[32:], 2)\n",
    "\n",
    "h0_bin = float64_to_binary(h0_adim)\n",
    "MSB_h = int(h0_bin[:32], 2)\n",
    "LSB_h = int(h0_bin[32:], 2)\n",
    "\n",
    "tol_bin = float64_to_binary(tol_adim)\n",
    "MSB_tol = int(tol_bin[:32], 2)\n",
    "LSB_tol = int(tol_bin[32:], 2)\n",
    "\n",
    "hmax_bin = float64_to_binary(h_max_adim)\n",
    "MSB_hmax = int(hmax_bin[:32], 2)\n",
    "LSB_hmax = int(hmax_bin[32:], 2)\n",
    "\n",
    "hmin_bin = float64_to_binary(h_min_adim)\n",
    "MSB_hmin = int(hmin_bin[:32], 2)\n",
    "LSB_hmin = int(hmin_bin[32:], 2)\n",
    "\n",
    "mu_bin = float64_to_binary(mu_adim)\n",
    "MSB_mu = int(mu_bin[:32], 2)\n",
    "LSB_mu = int(mu_bin[32:], 2)\n",
    "\n",
    "rk45_ip.write(ADDR_YY, buffer_y_FPGA.physical_address)\n",
    "rk45_ip.write(ADDR_TT, buffer_t_FPGA.physical_address)\n",
    "\n",
    "rk45_ip.write(ADDR_TF       , LSB_tf)\n",
    "rk45_ip.write(ADDR_TF + 0x04, MSB_tf)\n",
    "\n",
    "rk45_ip.write(ADDR_H0       , LSB_h)\n",
    "rk45_ip.write(ADDR_H0 + 0x04, MSB_h)\n",
    "\n",
    "rk45_ip.write(ADDR_TOL       , LSB_tol)\n",
    "rk45_ip.write(ADDR_TOL + 0x04, MSB_tol)\n",
    "\n",
    "rk45_ip.write(ADDR_H_MAX       , LSB_hmax)\n",
    "rk45_ip.write(ADDR_H_MAX + 0x04, MSB_hmax)\n",
    "\n",
    "rk45_ip.write(ADDR_H_MIN       , LSB_hmin)\n",
    "rk45_ip.write(ADDR_H_MIN + 0x04, MSB_hmin)\n",
    "\n",
    "rk45_ip.write(ADDR_MU       , LSB_mu)\n",
    "rk45_ip.write(ADDR_MU + 0x04, MSB_mu)\n",
    "\n",
    "# Check correctness\n",
    "# Information for reading and writing more than 32 bit https://discuss.pynq.io/t/how-can-i-write-a-64-bit-number-in-control-register-from-python/5519/3?u=davide-giacomini\n",
    "tf_memory_raw     = rk45_ip.mmio.read(ADDR_TF,  length=8)\n",
    "h0_memory_raw     = rk45_ip.mmio.read(ADDR_H0,   length=8)\n",
    "hmax_memory_raw   = rk45_ip.mmio.read(ADDR_H_MAX,  length=8)\n",
    "hmin_memory_raw   = rk45_ip.mmio.read(ADDR_H_MIN,  length=8)\n",
    "mu_memory_raw     = rk45_ip.mmio.read(ADDR_MU,  length=8)\n",
    "tol_memory_raw    = rk45_ip.mmio.read(ADDR_TOL,  length=8)\n",
    "\n",
    "print(      \n",
    "      tf_adim     == binary_to_float64(bin(tf_memory_raw)[2:].zfill(64))      and\n",
    "      h0_adim     == binary_to_float64(bin(h0_memory_raw)[2:].zfill(64))      and\n",
    "      h_max_adim  == binary_to_float64(bin(h0_memory_raw)[2:].zfill(64))      and\n",
    "      h_min_adim  == binary_to_float64(bin(h0_memory_raw)[2:].zfill(64))      and\n",
    "      mu_adim     == binary_to_float64(bin(mu_memory_raw)[2:].zfill(64))      and\n",
    "      tol_adim    == binary_to_float64(bin(tol_memory_raw)[2:].zfill(64))\n",
    "      )"
   ]
  },
  {
   "attachments": {},
   "cell_type": "markdown",
   "id": "30355400",
   "metadata": {},
   "source": [
    "### Declare function"
   ]
  },
  {
   "cell_type": "code",
   "execution_count": 27,
   "id": "ae843f1e",
   "metadata": {},
   "outputs": [],
   "source": [
    "def runge_kutta_5_fpga():\n",
    "    \n",
    "    rk45_ip.write(0x00, 1)\n",
    "    while rk45_ip.read(0x00) & 0x04 != 0x04:\n",
    "        pass\n",
    "    # Mark this content invalid, so the processor fetches the data from the FPGA\n",
    "    buffer_y_FPGA.invalidate()\n",
    "    buffer_t_FPGA.invalidate()"
   ]
  },
  {
   "cell_type": "code",
   "execution_count": 28,
   "id": "b4f4898d",
   "metadata": {},
   "outputs": [
    {
     "name": "stdout",
     "output_type": "stream",
     "text": [
      "Average of 110.34538149499895 seconds\n"
     ]
    }
   ],
   "source": [
    "# The commented code uses the buttons of the FPGA\n",
    "iterations = 1\n",
    "time = timeit.timeit(lambda: runge_kutta_5_fpga(), number=iterations)\n",
    "print('Average of ' + str(time/iterations) + ' seconds')"
   ]
  },
  {
   "cell_type": "code",
   "execution_count": 29,
   "id": "aac46c33",
   "metadata": {},
   "outputs": [],
   "source": [
    "size = rk45_ip.mmio.read(ADDR_SIZE,  length=4)"
   ]
  },
  {
   "attachments": {},
   "cell_type": "markdown",
   "id": "27fd0988",
   "metadata": {},
   "source": [
    "### Non adimensional storage"
   ]
  },
  {
   "cell_type": "code",
   "execution_count": 30,
   "id": "b723a293",
   "metadata": {},
   "outputs": [
    {
     "name": "stdout",
     "output_type": "stream",
     "text": [
      "/home/xilinx/jupyter_notebooks/runge_kutta_45/orbit_csv\n",
      "y_fpga_tol09_jupyter.csv updated.\n",
      "/home/xilinx/jupyter_notebooks/runge_kutta_45/orbit_csv\n",
      "t_fpga_tol09_jupyter.csv updated.\n"
     ]
    }
   ],
   "source": [
    "write_to_csv(np.array(buffer_y_FPGA)[:size], \"y_fpga_tol09_jupyter.csv\")\n",
    "write_to_csv(np.array(buffer_t_FPGA)[:size], \"t_fpga_tol09_jupyter.csv\")"
   ]
  },
  {
   "attachments": {},
   "cell_type": "markdown",
   "id": "e714818e",
   "metadata": {},
   "source": [
    "### Adimensional storage"
   ]
  },
  {
   "cell_type": "code",
   "execution_count": null,
   "id": "d9c1118c",
   "metadata": {},
   "outputs": [],
   "source": [
    "y_array = np.array(buffer_y_FPGA)[:size]\n",
    "t_array = np.array(buffer_t_FPGA)[:size]\n",
    "\n",
    "y_array_adim = np.concatenate((y_array[:, :3] * L, y_array[:, 3:] * L/T), axis=-1)\n",
    "t_array_adim = t_array * T\n",
    "\n",
    "write_to_csv(y_array_adim, \"y_fpga_tol09_adim_jupyter.csv\")\n",
    "write_to_csv(t_array_adim, \"t_fpga_tol09_adim_jupyter.csv\")"
   ]
  },
  {
   "attachments": {},
   "cell_type": "markdown",
   "id": "ce6bc3be",
   "metadata": {},
   "source": [
    "## Check FPGA vs CPU"
   ]
  },
  {
   "cell_type": "code",
   "execution_count": null,
   "id": "45f962fb",
   "metadata": {},
   "outputs": [],
   "source": [
    "# correct = np.allclose(X_FPGA[:], X_CPU[:], rtol=1e-02)\n",
    "\n",
    "# for i in range(8):\n",
    "#     rgb[i].off()\n",
    "\n",
    "# if (correct):\n",
    "#     rgb[1].on()\n",
    "#     rgb[4].on()\n",
    "#     print(\"Yeee\")\n",
    "# else:\n",
    "#     rgb[2].on()\n",
    "#     rgb[5].on()\n",
    "#     print(\"Nope\")"
   ]
  },
  {
   "cell_type": "code",
   "execution_count": null,
   "id": "226fdc6e",
   "metadata": {},
   "outputs": [],
   "source": [
    "# Clear the rgb\n",
    "\n",
    "# for i in range(8):\n",
    "#     rgb[i].off()"
   ]
  },
  {
   "cell_type": "code",
   "execution_count": null,
   "id": "eacbf22e",
   "metadata": {},
   "outputs": [],
   "source": [
    "# buffer_X_FPGA.freebuffer()"
   ]
  }
 ],
 "metadata": {
  "kernelspec": {
   "display_name": "Python 3",
   "language": "python",
   "name": "python3"
  },
  "language_info": {
   "codemirror_mode": {
    "name": "ipython",
    "version": 3
   },
   "file_extension": ".py",
   "mimetype": "text/x-python",
   "name": "python",
   "nbconvert_exporter": "python",
   "pygments_lexer": "ipython3",
   "version": "3.8.10"
  }
 },
 "nbformat": 4,
 "nbformat_minor": 5
}
