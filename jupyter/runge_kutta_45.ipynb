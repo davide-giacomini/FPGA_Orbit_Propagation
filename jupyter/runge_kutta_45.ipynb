{
 "cells": [
  {
   "cell_type": "markdown",
   "id": "412403fa",
   "metadata": {},
   "source": [
    "# Script Runge Kutta 5(4) 7M"
   ]
  },
  {
   "cell_type": "markdown",
   "id": "dac2a48d",
   "metadata": {},
   "source": [
    "## Import libraries and overlay"
   ]
  },
  {
   "cell_type": "markdown",
   "id": "25f9b030",
   "metadata": {},
   "source": [
    "### Import Python libraries"
   ]
  },
  {
   "cell_type": "code",
   "execution_count": 1,
   "id": "2d83dbf1",
   "metadata": {},
   "outputs": [],
   "source": [
    "import numpy as np\n",
    "import timeit\n",
    "import math\n",
    "import time\n",
    "import os\n",
    "import errno\n",
    "import pandas as pd\n",
    "import json"
   ]
  },
  {
   "cell_type": "markdown",
   "id": "87f96f54",
   "metadata": {},
   "source": [
    "### Import Pynq libraries"
   ]
  },
  {
   "cell_type": "code",
   "execution_count": 2,
   "id": "b0c55111",
   "metadata": {},
   "outputs": [
    {
     "data": {
      "application/javascript": [
       "\n",
       "try {\n",
       "require(['notebook/js/codecell'], function(codecell) {\n",
       "  codecell.CodeCell.options_default.highlight_modes[\n",
       "      'magic_text/x-csrc'] = {'reg':[/^%%microblaze/]};\n",
       "  Jupyter.notebook.events.one('kernel_ready.Kernel', function(){\n",
       "      Jupyter.notebook.get_cells().map(function(cell){\n",
       "          if (cell.cell_type == 'code'){ cell.auto_highlight(); } }) ;\n",
       "  });\n",
       "});\n",
       "} catch (e) {};\n"
      ]
     },
     "metadata": {},
     "output_type": "display_data"
    },
    {
     "data": {
      "application/javascript": [
       "\n",
       "try {\n",
       "require(['notebook/js/codecell'], function(codecell) {\n",
       "  codecell.CodeCell.options_default.highlight_modes[\n",
       "      'magic_text/x-csrc'] = {'reg':[/^%%pybind11/]};\n",
       "  Jupyter.notebook.events.one('kernel_ready.Kernel', function(){\n",
       "      Jupyter.notebook.get_cells().map(function(cell){\n",
       "          if (cell.cell_type == 'code'){ cell.auto_highlight(); } }) ;\n",
       "  });\n",
       "});\n",
       "} catch (e) {};\n"
      ]
     },
     "metadata": {},
     "output_type": "display_data"
    }
   ],
   "source": [
    "from pynq import Overlay\n",
    "from pynq import allocate"
   ]
  },
  {
   "cell_type": "markdown",
   "id": "12b43eff",
   "metadata": {},
   "source": [
    "### Import overlay"
   ]
  },
  {
   "cell_type": "code",
   "execution_count": 3,
   "id": "9d3eae2f",
   "metadata": {},
   "outputs": [],
   "source": [
    "# Include overlay\n",
    "# TODO after bitstream generation, move into the folder of Pynq:\n",
    "#   - `VIVADO_ROOT/euler_propagator_vivado/euler_propagator_vivado.gen/sources_1/bd/design_1/hw_handoff/design_1.hwh` --> rename into `design_1_wrapper.hwh`\n",
    "#   - `VIVADO_ROOT/euler_propagator_vivado/euler_propagator_vivado.runs/impl_1/design_1_wrapper.bit`\n",
    "\n",
    "overlay = Overlay(\"./design_1_wrapper.bit\")"
   ]
  },
  {
   "cell_type": "code",
   "execution_count": 4,
   "id": "d2604052",
   "metadata": {},
   "outputs": [],
   "source": [
    "# overlay?"
   ]
  },
  {
   "cell_type": "markdown",
   "id": "2eb1e50b",
   "metadata": {},
   "source": [
    "## Initialization"
   ]
  },
  {
   "cell_type": "markdown",
   "id": "3d6fd658",
   "metadata": {},
   "source": [
    "## Utils"
   ]
  },
  {
   "cell_type": "code",
   "execution_count": 5,
   "id": "9b8fac91",
   "metadata": {},
   "outputs": [],
   "source": [
    "def write_to_csv(X, filename, dir):\n",
    "    script_directory = os.getcwd()\n",
    "    \n",
    "    # Path to the directory\n",
    "    dir_path = script_directory + \"/orbit_csv/\" + dir\n",
    "\n",
    "    print(dir_path)\n",
    "\n",
    "    # Creates the directory if it doesn't exist\n",
    "    try:\n",
    "        os.makedirs(dir_path)\n",
    "    except OSError as e:\n",
    "        if e.errno != errno.EEXIST:\n",
    "            raise FileNotFoundError(\"Error: Unable to create directory \" + dir_path)\n",
    "\n",
    "    # Create dataframes for the array and matrix\n",
    "    X_df = pd.DataFrame(X)\n",
    "    \n",
    "    # Write the dataframes to CSV files\n",
    "    X_df.to_csv(os.path.join(dir_path, filename), index=False, header=None)\n",
    "\n",
    "    print(filename + \" updated.\")"
   ]
  },
  {
   "cell_type": "markdown",
   "id": "d0ce5e00",
   "metadata": {},
   "source": [
    "### Declare IP "
   ]
  },
  {
   "cell_type": "code",
   "execution_count": 6,
   "id": "80a0ae80",
   "metadata": {},
   "outputs": [],
   "source": [
    "rk45_ip = overlay.runge_kutta_45_0"
   ]
  },
  {
   "cell_type": "code",
   "execution_count": 7,
   "id": "ead4f33f",
   "metadata": {},
   "outputs": [],
   "source": [
    "rk45_ip?"
   ]
  },
  {
   "cell_type": "markdown",
   "id": "6bdefc7f",
   "metadata": {},
   "source": [
    "### Declaration of rk45_ip IP"
   ]
  },
  {
   "cell_type": "code",
   "execution_count": 8,
   "id": "67de0722",
   "metadata": {},
   "outputs": [
    {
     "data": {
      "text/plain": [
       "RegisterMap {\n",
       "  CTRL = Register(AP_START=0, AP_DONE=0, AP_IDLE=1, AP_READY=0, RESERVED_1=0, AUTO_RESTART=0, RESERVED_2=0, INTERRUPT=0, RESERVED_3=0),\n",
       "  GIER = Register(Enable=0, RESERVED=0),\n",
       "  IP_IER = Register(CHAN0_INT_EN=0, CHAN1_INT_EN=0, RESERVED_0=0),\n",
       "  IP_ISR = Register(CHAN0_INT_ST=0, CHAN1_INT_ST=0, RESERVED_0=0),\n",
       "  yy_1 = Register(yy=write-only),\n",
       "  yy_2 = Register(yy=write-only),\n",
       "  tt_1 = Register(tt=write-only),\n",
       "  tt_2 = Register(tt=write-only),\n",
       "  tf_1 = Register(tf=write-only),\n",
       "  tf_2 = Register(tf=write-only),\n",
       "  h0_1 = Register(h0=write-only),\n",
       "  h0_2 = Register(h0=write-only),\n",
       "  atol_1 = Register(atol=write-only),\n",
       "  atol_2 = Register(atol=write-only),\n",
       "  h_max_1 = Register(h_max=write-only),\n",
       "  h_max_2 = Register(h_max=write-only),\n",
       "  h_min_1 = Register(h_min=write-only),\n",
       "  h_min_2 = Register(h_min=write-only),\n",
       "  mu_1 = Register(mu=write-only),\n",
       "  mu_2 = Register(mu=write-only),\n",
       "  size = Register(size=0),\n",
       "  size_ctrl = Register(size_ap_vld=0, RESERVED=0),\n",
       "  flag = Register(flag=0, RESERVED=0),\n",
       "  flag_ctrl = Register(flag_ap_vld=0, RESERVED=0)\n",
       "}"
      ]
     },
     "execution_count": 8,
     "metadata": {},
     "output_type": "execute_result"
    }
   ],
   "source": [
    "rk45_ip.register_map"
   ]
  },
  {
   "cell_type": "code",
   "execution_count": 9,
   "id": "ab0ec96d",
   "metadata": {},
   "outputs": [
    {
     "data": {
      "text/plain": [
       "Register(AP_START=0, AP_DONE=0, AP_IDLE=1, AP_READY=0, RESERVED_1=0, AUTO_RESTART=0, RESERVED_2=0, INTERRUPT=0, RESERVED_3=0)"
      ]
     },
     "execution_count": 9,
     "metadata": {},
     "output_type": "execute_result"
    }
   ],
   "source": [
    "rk45_ip.register_map.CTRL"
   ]
  },
  {
   "cell_type": "code",
   "execution_count": 10,
   "id": "50ec975f",
   "metadata": {},
   "outputs": [
    {
     "data": {
      "text/plain": [
       "'0b100'"
      ]
     },
     "execution_count": 10,
     "metadata": {},
     "output_type": "execute_result"
    }
   ],
   "source": [
    "bin(rk45_ip.read(0x00))"
   ]
  },
  {
   "cell_type": "markdown",
   "id": "7ddc8970",
   "metadata": {},
   "source": [
    "### Constant declaration and initialization"
   ]
  },
  {
   "cell_type": "code",
   "execution_count": 11,
   "id": "b5105dfc",
   "metadata": {},
   "outputs": [],
   "source": [
    "script_directory = os.getcwd()\n",
    "\n",
    "# Read the JSON file\n",
    "with open(script_directory + '/constants.json', 'r') as file:\n",
    "    data = json.load(file)\n",
    "    \n",
    "# Access the object in the JSON array\n",
    "json_object = data[2]   # 0: LEO, 1: GTO, 2: 67P\n",
    "\n",
    "tf_1_rev_json = json_object['T_REV']\n",
    "n_rev_json = json_object['N_REV']\n",
    "mu_json = json_object['MU'] # km³/s²\n",
    "tol_json = json_object['TOL']\n",
    "h_init_json = json_object['H0']\n",
    "t0_json = json_object['T0']\n",
    "h_min_json = json_object['H_MIN']\n",
    "r0_json = np.array(json_object['r0']) # km\n",
    "v0_json = np.array(json_object['v0']) # km/s\n",
    "dir_json = json_object['dir']"
   ]
  },
  {
   "cell_type": "code",
   "execution_count": 12,
   "id": "e75a21af",
   "metadata": {},
   "outputs": [],
   "source": [
    "D = 3\n",
    "N = 2*D\n",
    "\n",
    "T_REV = tf_1_rev_json\n",
    "N_REV = n_rev_json\n",
    "T0 = 0.0\n",
    "TF = T_REV*N_REV # Oltre a 1284s l'errore porta h a frazioni di secondo. In simulazione non accade\n",
    "MU = mu_json\n",
    "TOL = tol_json\n",
    "\n",
    "H0 = h_init_json\n",
    "H_MIN = h_min_json\n",
    "H_MAX = 0.1*abs(TF-T0)  # Matlab default\n",
    "max_rows = math.ceil(TF/H_MIN) + 1\n",
    "\n",
    "r0 = r0_json\n",
    "v0 = v0_json"
   ]
  },
  {
   "cell_type": "markdown",
   "id": "f5afa6e6",
   "metadata": {},
   "source": [
    "## CPU computation"
   ]
  },
  {
   "cell_type": "markdown",
   "id": "0f66d429",
   "metadata": {},
   "source": [
    "### Functions definition"
   ]
  },
  {
   "cell_type": "code",
   "execution_count": 13,
   "id": "a060a607",
   "metadata": {},
   "outputs": [],
   "source": [
    "# RK5(4)7M CONSTANTS\n",
    "C = np.array([1/5, 3/10, 4/5, 8/9, 1, 1])\n",
    "\n",
    "A = np.array([[0, 0, 0, 0, 0],\n",
    "              [1/5, 0, 0, 0, 0],\n",
    "              [3/40, 9/40, 0, 0, 0],\n",
    "              [44/45, -56/15, 32/9, 0, 0],\n",
    "              [19372/6561, -25360/2187, 64448/6561, -212/729, 0],\n",
    "              [9017/3168, -355/33, 46732/5247, 49/176, -5103/18656]])\n",
    "\n",
    "B = np.array([35/384, 0, 500/1113, 125/192, -2187/6784, 11/84, 0])\n",
    "Bs = np.array([5179/57600, 0, 7571/16695, 393/640, -92097/339200, 187/2100, 1/40])\n",
    "\n",
    "def rk_45(f, t0, tf, y0, h0, atol, h_max, h_min):\n",
    "    \n",
    "    # Initialization\n",
    "    h = h0                  # intial dt\n",
    "    u_h = np.array([y0])        # initial shape = (0,6)\n",
    "    t_h = np.array([t0])        # initial shape = (0,1)\n",
    "    h_h = np.array([h0])    # initial shape = (0,1)\n",
    "    tolerance_respected = True\n",
    "\n",
    "    while (t_h[-1] < tf):\n",
    "\n",
    "        if (t_h[-1] + h > tf):\n",
    "            h = tf - t_h[-1]\n",
    "\n",
    "        # ciclo iterativo per calcolare la soluzione                \n",
    "        k_0 = f(t_h + h       , u_h[-1])\n",
    "        k_1 = f(t_h + C[1] * h, u_h[-1] + h * (A[1,0]*k_0))\n",
    "        k_2 = f(t_h + C[2] * h, u_h[-1] + h * (A[2,0]*k_0 + A[2,1]*k_1))\n",
    "        k_3 = f(t_h + C[3] * h, u_h[-1] + h * (A[3,0]*k_0 + A[3,1]*k_1 + A[3,2]*k_2))\n",
    "        k_4 = f(t_h + C[4] * h, u_h[-1] + h * (A[4,0]*k_0 + A[4,1]*k_1 + A[4,2]*k_2 + A[4,3]*k_3))\n",
    "        k_5 = f(t_h + C[5] * h, u_h[-1] + h * (A[5,0]*k_0 + A[5,1]*k_1 + A[5,2]*k_2 + A[5,3]*k_3 + A[5,4]*k_4))\n",
    "\n",
    "        tnew = t_h[-1] + h\n",
    "        ynew = u_h[-1] + h * (B[0]*k_0 + B[1]*k_1 + B[2]*k_2 + B[3]*k_3 + B[4]*k_4 + B[5]*k_5)\n",
    "\n",
    "        k_6 = f(tnew, ynew)\n",
    "\n",
    "        e = h * ( (B[0] - Bs[0])*k_0 + (B[1] - Bs[1])*k_1 + (B[2] - Bs[2])*k_2 + (B[3] - Bs[3])*k_3 + (B[4] - Bs[4])*k_4 + (B[5] - Bs[5])*k_5 + (B[6] - Bs[6])*k_6 )\n",
    "\n",
    "        err = np.linalg.norm(e)  # I don't use the norm to see the difference with the C implementation\n",
    "        scale = 1\n",
    "\n",
    "        if (err <= atol):\n",
    "            u_h = np.vstack((u_h, ynew))\n",
    "            t_h = np.vstack((t_h, t_h[-1] + h))\n",
    "            h_h = np.vstack(((h_h, h)))\n",
    "            \n",
    "            scale = 1.11\n",
    "\n",
    "        elif (h <= h_min):  # In case it's the last one, it could be less than h_min\n",
    "            u_h = np.vstack((u_h, ynew))\n",
    "            t_h = np.vstack((t_h, t_h[-1] + h))\n",
    "            h_h = np.vstack(((h_h, h)))\n",
    "\n",
    "            tolerance_respected = False\n",
    "        else:\n",
    "            scale = 0.99\n",
    "\n",
    "        # # compute the optimal step size\n",
    "        # scale = 0.9*(atol / np.linalg.norm(e))**(1/5)\n",
    "\n",
    "        h = max(min(h*scale, h_max), h_min)\n",
    "\n",
    "    return t_h, u_h, h_h, tolerance_respected\n",
    "\n",
    "\n",
    "def ode(t, y, mu):\n",
    "    # t: time variable (unused in this function, but required for use with ode45)\n",
    "    # in_vec: input vector of size 6 containing the position and velocity\n",
    "    # mu: a constant parameter\n",
    "    \n",
    "    # extract the position and velocity vectors from the input\n",
    "    r = y[0:3]\n",
    "    v = y[3:6]\n",
    "    \n",
    "    # compute the new position and velocity\n",
    "    r_new = v\n",
    "    v_new = - mu * r / np.linalg.norm(r)**3\n",
    "    \n",
    "    # combine the position and velocity into the output vector\n",
    "    out = np.concatenate((r_new, v_new))\n",
    "    \n",
    "    return out"
   ]
  },
  {
   "cell_type": "markdown",
   "id": "51d8b72e",
   "metadata": {},
   "source": [
    "### Computation and storage non adimensional"
   ]
  },
  {
   "cell_type": "code",
   "execution_count": 100,
   "id": "5f179eea",
   "metadata": {},
   "outputs": [
    {
     "name": "stdout",
     "output_type": "stream",
     "text": [
      "126.57410550117493s\n"
     ]
    }
   ],
   "source": [
    "ode_wrapper = lambda t, y: ode(t, y, MU)\n",
    "\n",
    "tic = time.time()\n",
    "t, y, h, flag = rk_45(ode_wrapper, T0, TF, np.concatenate((r0, v0)), H0, TOL, H_MAX, H_MIN) \n",
    "toc = time.time()\n",
    "print(str(toc-tic) + \"s\")"
   ]
  },
  {
   "cell_type": "code",
   "execution_count": 102,
   "id": "2800c95d",
   "metadata": {},
   "outputs": [
    {
     "name": "stdout",
     "output_type": "stream",
     "text": [
      "/home/xilinx/jupyter_notebooks/runge_kutta_45/orbit_csv/LEO_orbit\n",
      "y_rk5_tol09_jupyter_cpu.csv updated.\n",
      "/home/xilinx/jupyter_notebooks/runge_kutta_45/orbit_csv/LEO_orbit\n",
      "t_rk5_tol09_jupyter_cpu.csv updated.\n"
     ]
    }
   ],
   "source": [
    "# y_anormalized = np.concatenate((y[:, :3] * R, y[:, 3:] * V), axis=-1)\n",
    "\n",
    "write_to_csv(y, \"y_rk5_tol09_jupyter_cpu.csv\", dir_json)\n",
    "write_to_csv(t, \"t_rk5_tol09_jupyter_cpu.csv\", dir_json)"
   ]
  },
  {
   "cell_type": "markdown",
   "id": "e505d130",
   "metadata": {},
   "source": [
    "## Adimensional variables"
   ]
  },
  {
   "cell_type": "code",
   "execution_count": 16,
   "id": "594ba76c",
   "metadata": {},
   "outputs": [],
   "source": [
    "L = np.linalg.norm(r0)\n",
    "T = L / np.linalg.norm(v0)\n",
    "mu_adim = MU / ( L**3 / T**2 )\n",
    "\n",
    "r0_adim = r0 / L\n",
    "v0_adim = v0 / (L/T)\n",
    "h0_adim = H0 / T\n",
    "t0_adim = T0 / T\n",
    "tf_adim = TF / T\n",
    "tol_adim = TOL / L\n",
    "h_max_adim = H_MAX / T\n",
    "h_min_adim = H_MIN / T\n",
    "\n",
    "max_rows_adim = math.ceil(tf_adim/h_min_adim) + 1"
   ]
  },
  {
   "cell_type": "markdown",
   "id": "74acd2c4",
   "metadata": {},
   "source": [
    "### Computation and storage adimensional"
   ]
  },
  {
   "cell_type": "code",
   "execution_count": 104,
   "id": "91cc25b0",
   "metadata": {},
   "outputs": [
    {
     "ename": "ValueError",
     "evalue": "too many values to unpack (expected 3)",
     "output_type": "error",
     "traceback": [
      "\u001b[0;31m---------------------------------------------------------------------------\u001b[0m",
      "\u001b[0;31mValueError\u001b[0m                                Traceback (most recent call last)",
      "\u001b[0;32m<ipython-input-104-573e12a0f09a>\u001b[0m in \u001b[0;36m<module>\u001b[0;34m\u001b[0m\n\u001b[1;32m      2\u001b[0m \u001b[0;34m\u001b[0m\u001b[0m\n\u001b[1;32m      3\u001b[0m \u001b[0mtic\u001b[0m \u001b[0;34m=\u001b[0m \u001b[0mtime\u001b[0m\u001b[0;34m.\u001b[0m\u001b[0mtime\u001b[0m\u001b[0;34m(\u001b[0m\u001b[0;34m)\u001b[0m\u001b[0;34m\u001b[0m\u001b[0;34m\u001b[0m\u001b[0m\n\u001b[0;32m----> 4\u001b[0;31m \u001b[0mt\u001b[0m\u001b[0;34m,\u001b[0m \u001b[0my\u001b[0m\u001b[0;34m,\u001b[0m \u001b[0mh\u001b[0m \u001b[0;34m=\u001b[0m \u001b[0mrk_45\u001b[0m\u001b[0;34m(\u001b[0m\u001b[0mode_wrapper\u001b[0m\u001b[0;34m,\u001b[0m \u001b[0mt0_adim\u001b[0m\u001b[0;34m,\u001b[0m \u001b[0mtf_adim\u001b[0m\u001b[0;34m,\u001b[0m \u001b[0mnp\u001b[0m\u001b[0;34m.\u001b[0m\u001b[0mconcatenate\u001b[0m\u001b[0;34m(\u001b[0m\u001b[0;34m(\u001b[0m\u001b[0mr0_adim\u001b[0m\u001b[0;34m,\u001b[0m \u001b[0mv0_adim\u001b[0m\u001b[0;34m)\u001b[0m\u001b[0;34m)\u001b[0m\u001b[0;34m,\u001b[0m \u001b[0mh0_adim\u001b[0m\u001b[0;34m,\u001b[0m \u001b[0mtol_adim\u001b[0m\u001b[0;34m,\u001b[0m \u001b[0mh_max_adim\u001b[0m\u001b[0;34m,\u001b[0m \u001b[0mh_min_adim\u001b[0m\u001b[0;34m)\u001b[0m\u001b[0;34m\u001b[0m\u001b[0;34m\u001b[0m\u001b[0m\n\u001b[0m\u001b[1;32m      5\u001b[0m \u001b[0mtoc\u001b[0m \u001b[0;34m=\u001b[0m \u001b[0mtime\u001b[0m\u001b[0;34m.\u001b[0m\u001b[0mtime\u001b[0m\u001b[0;34m(\u001b[0m\u001b[0;34m)\u001b[0m\u001b[0;34m\u001b[0m\u001b[0;34m\u001b[0m\u001b[0m\n\u001b[1;32m      6\u001b[0m \u001b[0mprint\u001b[0m\u001b[0;34m(\u001b[0m\u001b[0mstr\u001b[0m\u001b[0;34m(\u001b[0m\u001b[0mtoc\u001b[0m\u001b[0;34m-\u001b[0m\u001b[0mtic\u001b[0m\u001b[0;34m)\u001b[0m \u001b[0;34m+\u001b[0m \u001b[0;34m\"s\"\u001b[0m\u001b[0;34m)\u001b[0m\u001b[0;34m\u001b[0m\u001b[0;34m\u001b[0m\u001b[0m\n",
      "\u001b[0;31mValueError\u001b[0m: too many values to unpack (expected 3)"
     ]
    }
   ],
   "source": [
    "ode_wrapper = lambda t, y: ode(t, y, mu_adim)\n",
    "\n",
    "tic = time.time()\n",
    "t, y, h, flag = rk_45(ode_wrapper, t0_adim, tf_adim, np.concatenate((r0_adim, v0_adim)), h0_adim, tol_adim, h_max_adim, h_min_adim)\n",
    "toc = time.time()\n",
    "print(str(toc-tic) + \"s\")"
   ]
  },
  {
   "cell_type": "code",
   "execution_count": 10,
   "id": "ec6e1d19",
   "metadata": {},
   "outputs": [
    {
     "name": "stdout",
     "output_type": "stream",
     "text": [
      "/home/davide/Projects/runge_kutta_45/jupyter/orbit_csv\n",
      "y_rk5_tol09_jupyter_adim_cpu.csv updated.\n",
      "/home/davide/Projects/runge_kutta_45/jupyter/orbit_csv\n",
      "t_rk5_tol09_jupyter_adim_cpu.csv updated.\n",
      "/home/davide/Projects/runge_kutta_45/jupyter/orbit_csv\n",
      "h_rk5_tol09_jupyter_adim_cpu.csv updated.\n"
     ]
    }
   ],
   "source": [
    "y_final_adim = np.concatenate((y[:, :3] * L, y[:, 3:] * L/T), axis=-1)\n",
    "t_final_adim = t * T\n",
    "h_final_adim = h * T\n",
    "\n",
    "write_to_csv(y_final_adim, \"y_rk5_tol09_jupyter_adim_cpu.csv\")\n",
    "write_to_csv(t_final_adim, \"t_rk5_tol09_jupyter_adim_cpu.csv\")\n",
    "write_to_csv(h_final_adim, \"h_rk5_tol09_jupyter_adim_cpu.csv\")"
   ]
  },
  {
   "cell_type": "markdown",
   "id": "de5f1df8",
   "metadata": {},
   "source": [
    "## FPGA computation"
   ]
  },
  {
   "cell_type": "markdown",
   "id": "23ab624e",
   "metadata": {},
   "source": [
    "### Prepare memory buffer"
   ]
  },
  {
   "cell_type": "code",
   "execution_count": 109,
   "id": "7ae6b3cd",
   "metadata": {},
   "outputs": [],
   "source": [
    "# buffer_y_FPGA.freebuffer()\n",
    "# buffer_t_FPGA.freebuffer()"
   ]
  },
  {
   "cell_type": "code",
   "execution_count": 19,
   "id": "f4e1420a",
   "metadata": {},
   "outputs": [
    {
     "data": {
      "text/plain": [
       "675907"
      ]
     },
     "execution_count": 19,
     "metadata": {},
     "output_type": "execute_result"
    }
   ],
   "source": [
    "max_rows_adim"
   ]
  },
  {
   "cell_type": "markdown",
   "id": "ea7f1ad0",
   "metadata": {},
   "source": [
    "### Non adimensional memory buffer"
   ]
  },
  {
   "cell_type": "code",
   "execution_count": 111,
   "id": "8fdd0890",
   "metadata": {
    "collapsed": true
   },
   "outputs": [
    {
     "ename": "RuntimeError",
     "evalue": "Allocate failed: 4294967295",
     "output_type": "error",
     "traceback": [
      "\u001b[0;31m---------------------------------------------------------------------------\u001b[0m",
      "\u001b[0;31mRuntimeError\u001b[0m                              Traceback (most recent call last)",
      "\u001b[0;32m<ipython-input-111-8dc281765c95>\u001b[0m in \u001b[0;36m<module>\u001b[0;34m\u001b[0m\n\u001b[0;32m----> 1\u001b[0;31m \u001b[0mbuffer_y_FPGA\u001b[0m \u001b[0;34m=\u001b[0m \u001b[0mallocate\u001b[0m\u001b[0;34m(\u001b[0m\u001b[0;34m(\u001b[0m \u001b[0mmax_rows\u001b[0m\u001b[0;34m,\u001b[0m \u001b[0mN\u001b[0m \u001b[0;34m)\u001b[0m\u001b[0;34m,\u001b[0m \u001b[0mnp\u001b[0m\u001b[0;34m.\u001b[0m\u001b[0mfloat64\u001b[0m\u001b[0;34m)\u001b[0m\u001b[0;34m\u001b[0m\u001b[0;34m\u001b[0m\u001b[0m\n\u001b[0m\u001b[1;32m      2\u001b[0m \u001b[0mbuffer_t_FPGA\u001b[0m \u001b[0;34m=\u001b[0m \u001b[0mallocate\u001b[0m\u001b[0;34m(\u001b[0m\u001b[0;34m(\u001b[0m \u001b[0mmax_rows\u001b[0m\u001b[0;34m,\u001b[0m \u001b[0;34m)\u001b[0m\u001b[0;34m,\u001b[0m \u001b[0mnp\u001b[0m\u001b[0;34m.\u001b[0m\u001b[0mfloat64\u001b[0m\u001b[0;34m)\u001b[0m\u001b[0;34m\u001b[0m\u001b[0;34m\u001b[0m\u001b[0m\n",
      "\u001b[0;32m/usr/local/share/pynq-venv/lib/python3.8/site-packages/pynq/buffer.py\u001b[0m in \u001b[0;36mallocate\u001b[0;34m(shape, dtype, target, **kwargs)\u001b[0m\n\u001b[1;32m    170\u001b[0m     \u001b[0;32mif\u001b[0m \u001b[0mtarget\u001b[0m \u001b[0;32mis\u001b[0m \u001b[0;32mNone\u001b[0m\u001b[0;34m:\u001b[0m\u001b[0;34m\u001b[0m\u001b[0;34m\u001b[0m\u001b[0m\n\u001b[1;32m    171\u001b[0m         \u001b[0mtarget\u001b[0m \u001b[0;34m=\u001b[0m \u001b[0mDevice\u001b[0m\u001b[0;34m.\u001b[0m\u001b[0mactive_device\u001b[0m\u001b[0;34m\u001b[0m\u001b[0;34m\u001b[0m\u001b[0m\n\u001b[0;32m--> 172\u001b[0;31m     \u001b[0;32mreturn\u001b[0m \u001b[0mtarget\u001b[0m\u001b[0;34m.\u001b[0m\u001b[0mallocate\u001b[0m\u001b[0;34m(\u001b[0m\u001b[0mshape\u001b[0m\u001b[0;34m,\u001b[0m \u001b[0mdtype\u001b[0m\u001b[0;34m,\u001b[0m \u001b[0;34m**\u001b[0m\u001b[0mkwargs\u001b[0m\u001b[0;34m)\u001b[0m\u001b[0;34m\u001b[0m\u001b[0;34m\u001b[0m\u001b[0m\n\u001b[0m",
      "\u001b[0;32m/usr/local/share/pynq-venv/lib/python3.8/site-packages/pynq/pl_server/device.py\u001b[0m in \u001b[0;36mallocate\u001b[0;34m(self, shape, dtype, **kwargs)\u001b[0m\n\u001b[1;32m    290\u001b[0m \u001b[0;34m\u001b[0m\u001b[0m\n\u001b[1;32m    291\u001b[0m         \"\"\"\n\u001b[0;32m--> 292\u001b[0;31m         \u001b[0;32mreturn\u001b[0m \u001b[0mself\u001b[0m\u001b[0;34m.\u001b[0m\u001b[0mdefault_memory\u001b[0m\u001b[0;34m.\u001b[0m\u001b[0mallocate\u001b[0m\u001b[0;34m(\u001b[0m\u001b[0mshape\u001b[0m\u001b[0;34m,\u001b[0m \u001b[0mdtype\u001b[0m\u001b[0;34m,\u001b[0m \u001b[0;34m**\u001b[0m\u001b[0mkwargs\u001b[0m\u001b[0;34m)\u001b[0m\u001b[0;34m\u001b[0m\u001b[0;34m\u001b[0m\u001b[0m\n\u001b[0m\u001b[1;32m    293\u001b[0m \u001b[0;34m\u001b[0m\u001b[0m\n\u001b[1;32m    294\u001b[0m     \u001b[0;32mdef\u001b[0m \u001b[0mreset\u001b[0m\u001b[0;34m(\u001b[0m\u001b[0mself\u001b[0m\u001b[0;34m,\u001b[0m \u001b[0mparser\u001b[0m\u001b[0;34m=\u001b[0m\u001b[0;32mNone\u001b[0m\u001b[0;34m,\u001b[0m \u001b[0mtimestamp\u001b[0m\u001b[0;34m=\u001b[0m\u001b[0;32mNone\u001b[0m\u001b[0;34m,\u001b[0m \u001b[0mbitfile_name\u001b[0m\u001b[0;34m=\u001b[0m\u001b[0;32mNone\u001b[0m\u001b[0;34m)\u001b[0m\u001b[0;34m:\u001b[0m\u001b[0;34m\u001b[0m\u001b[0;34m\u001b[0m\u001b[0m\n",
      "\u001b[0;32m/usr/local/share/pynq-venv/lib/python3.8/site-packages/pynq/pl_server/xrt_device.py\u001b[0m in \u001b[0;36mallocate\u001b[0;34m(self, shape, dtype, **kwargs)\u001b[0m\n\u001b[1;32m    167\u001b[0m \u001b[0;34m\u001b[0m\u001b[0m\n\u001b[1;32m    168\u001b[0m         \"\"\"\n\u001b[0;32m--> 169\u001b[0;31m         \u001b[0mbuf\u001b[0m \u001b[0;34m=\u001b[0m \u001b[0m_xrt_allocate\u001b[0m\u001b[0;34m(\u001b[0m\u001b[0mshape\u001b[0m\u001b[0;34m,\u001b[0m \u001b[0mdtype\u001b[0m\u001b[0;34m,\u001b[0m \u001b[0mself\u001b[0m\u001b[0;34m.\u001b[0m\u001b[0mdevice\u001b[0m\u001b[0;34m,\u001b[0m \u001b[0mself\u001b[0m\u001b[0;34m.\u001b[0m\u001b[0midx\u001b[0m\u001b[0;34m,\u001b[0m \u001b[0;34m**\u001b[0m\u001b[0mkwargs\u001b[0m\u001b[0;34m)\u001b[0m\u001b[0;34m\u001b[0m\u001b[0;34m\u001b[0m\u001b[0m\n\u001b[0m\u001b[1;32m    170\u001b[0m         \u001b[0mbuf\u001b[0m\u001b[0;34m.\u001b[0m\u001b[0mmemory\u001b[0m \u001b[0;34m=\u001b[0m \u001b[0mself\u001b[0m\u001b[0;34m\u001b[0m\u001b[0;34m\u001b[0m\u001b[0m\n\u001b[1;32m    171\u001b[0m         \u001b[0;32mreturn\u001b[0m \u001b[0mbuf\u001b[0m\u001b[0;34m\u001b[0m\u001b[0;34m\u001b[0m\u001b[0m\n",
      "\u001b[0;32m/usr/local/share/pynq-venv/lib/python3.8/site-packages/pynq/pl_server/xrt_device.py\u001b[0m in \u001b[0;36m_xrt_allocate\u001b[0;34m(shape, dtype, device, memidx, cacheable, pointer, cache)\u001b[0m\n\u001b[1;32m    122\u001b[0m         \u001b[0mbo\u001b[0m\u001b[0;34m,\u001b[0m \u001b[0mbuf\u001b[0m\u001b[0;34m,\u001b[0m \u001b[0mdevice_address\u001b[0m \u001b[0;34m=\u001b[0m \u001b[0mpointer\u001b[0m\u001b[0;34m\u001b[0m\u001b[0;34m\u001b[0m\u001b[0m\n\u001b[1;32m    123\u001b[0m     \u001b[0;32melse\u001b[0m\u001b[0;34m:\u001b[0m\u001b[0;34m\u001b[0m\u001b[0;34m\u001b[0m\u001b[0m\n\u001b[0;32m--> 124\u001b[0;31m         \u001b[0mbo\u001b[0m \u001b[0;34m=\u001b[0m \u001b[0mdevice\u001b[0m\u001b[0;34m.\u001b[0m\u001b[0mallocate_bo\u001b[0m\u001b[0;34m(\u001b[0m\u001b[0msize\u001b[0m\u001b[0;34m,\u001b[0m \u001b[0mmemidx\u001b[0m\u001b[0;34m,\u001b[0m \u001b[0mcacheable\u001b[0m\u001b[0;34m)\u001b[0m\u001b[0;34m\u001b[0m\u001b[0;34m\u001b[0m\u001b[0m\n\u001b[0m\u001b[1;32m    125\u001b[0m         \u001b[0mbuf\u001b[0m \u001b[0;34m=\u001b[0m \u001b[0mdevice\u001b[0m\u001b[0;34m.\u001b[0m\u001b[0mmap_bo\u001b[0m\u001b[0;34m(\u001b[0m\u001b[0mbo\u001b[0m\u001b[0;34m)\u001b[0m\u001b[0;34m\u001b[0m\u001b[0;34m\u001b[0m\u001b[0m\n\u001b[1;32m    126\u001b[0m         \u001b[0mdevice_address\u001b[0m \u001b[0;34m=\u001b[0m \u001b[0mdevice\u001b[0m\u001b[0;34m.\u001b[0m\u001b[0mget_device_address\u001b[0m\u001b[0;34m(\u001b[0m\u001b[0mbo\u001b[0m\u001b[0;34m)\u001b[0m\u001b[0;34m\u001b[0m\u001b[0;34m\u001b[0m\u001b[0m\n",
      "\u001b[0;32m/usr/local/share/pynq-venv/lib/python3.8/site-packages/pynq/pl_server/xrt_device.py\u001b[0m in \u001b[0;36mallocate_bo\u001b[0;34m(self, size, idx, cacheable)\u001b[0m\n\u001b[1;32m    412\u001b[0m                             xrt.xclBOKind.XCL_BO_DEVICE_RAM, idx)\n\u001b[1;32m    413\u001b[0m         \u001b[0;32mif\u001b[0m \u001b[0mbo\u001b[0m \u001b[0;34m>=\u001b[0m \u001b[0;36m0x80000000\u001b[0m\u001b[0;34m:\u001b[0m\u001b[0;34m\u001b[0m\u001b[0;34m\u001b[0m\u001b[0m\n\u001b[0;32m--> 414\u001b[0;31m             \u001b[0;32mraise\u001b[0m \u001b[0mRuntimeError\u001b[0m\u001b[0;34m(\u001b[0m\u001b[0;34m\"Allocate failed: \"\u001b[0m \u001b[0;34m+\u001b[0m \u001b[0mstr\u001b[0m\u001b[0;34m(\u001b[0m\u001b[0mbo\u001b[0m\u001b[0;34m)\u001b[0m\u001b[0;34m)\u001b[0m\u001b[0;34m\u001b[0m\u001b[0;34m\u001b[0m\u001b[0m\n\u001b[0m\u001b[1;32m    415\u001b[0m         \u001b[0;32mreturn\u001b[0m \u001b[0mbo\u001b[0m\u001b[0;34m\u001b[0m\u001b[0;34m\u001b[0m\u001b[0m\n\u001b[1;32m    416\u001b[0m \u001b[0;34m\u001b[0m\u001b[0m\n",
      "\u001b[0;31mRuntimeError\u001b[0m: Allocate failed: 4294967295"
     ]
    }
   ],
   "source": [
    "buffer_y_FPGA = allocate(( max_rows, N ), np.float64)\n",
    "buffer_t_FPGA = allocate(( max_rows, ), np.float64)"
   ]
  },
  {
   "cell_type": "code",
   "execution_count": 95,
   "id": "5a10ebad",
   "metadata": {},
   "outputs": [],
   "source": [
    "buffer_y_FPGA[0] = np.concatenate(((r0, v0)))\n",
    "buffer_t_FPGA[0] = T0"
   ]
  },
  {
   "cell_type": "markdown",
   "id": "8e25cc17",
   "metadata": {},
   "source": [
    "### Adimensional memory buffer"
   ]
  },
  {
   "cell_type": "code",
   "execution_count": 20,
   "id": "71a1f19f",
   "metadata": {},
   "outputs": [],
   "source": [
    "buffer_y_FPGA = allocate(( max_rows_adim, N ), np.float64)\n",
    "buffer_t_FPGA = allocate(( max_rows_adim, ), np.float64)"
   ]
  },
  {
   "cell_type": "code",
   "execution_count": 21,
   "id": "07a3abab",
   "metadata": {},
   "outputs": [],
   "source": [
    "buffer_y_FPGA[0] = np.concatenate(((r0_adim, v0_adim)))\n",
    "buffer_t_FPGA[0] = t0_adim"
   ]
  },
  {
   "cell_type": "code",
   "execution_count": 22,
   "id": "19913487",
   "metadata": {},
   "outputs": [
    {
     "name": "stdout",
     "output_type": "stream",
     "text": [
      "[[ 3.06518854e-06  9.98517216e-01  5.44368432e-02 -9.76043161e-01\n",
      "   2.11593741e-01  5.06738170e-02]\n",
      " [ 0.00000000e+00  0.00000000e+00  0.00000000e+00  0.00000000e+00\n",
      "   0.00000000e+00  0.00000000e+00]\n",
      " [ 0.00000000e+00  0.00000000e+00  0.00000000e+00  0.00000000e+00\n",
      "   0.00000000e+00  0.00000000e+00]\n",
      " ...\n",
      " [ 0.00000000e+00  0.00000000e+00  0.00000000e+00  0.00000000e+00\n",
      "   0.00000000e+00  0.00000000e+00]\n",
      " [ 0.00000000e+00  0.00000000e+00  0.00000000e+00  0.00000000e+00\n",
      "   0.00000000e+00  0.00000000e+00]\n",
      " [ 0.00000000e+00  0.00000000e+00  0.00000000e+00  0.00000000e+00\n",
      "   0.00000000e+00  0.00000000e+00]]\n",
      "[0. 0. 0. ... 0. 0. 0.]\n"
     ]
    }
   ],
   "source": [
    "print(buffer_y_FPGA)\n",
    "print(buffer_t_FPGA)"
   ]
  },
  {
   "cell_type": "code",
   "execution_count": 23,
   "id": "964ab8b8",
   "metadata": {},
   "outputs": [],
   "source": [
    "# https://stackoverflow.com/questions/16444726/binary-representation-of-float-in-python-bits-not-hex\n",
    "\n",
    "import struct\n",
    "def float64_to_binary(num):\n",
    "    return ''.join('{:0>8b}'.format(c) for c in struct.pack('!d', num))"
   ]
  },
  {
   "cell_type": "code",
   "execution_count": 24,
   "id": "8e75266b",
   "metadata": {},
   "outputs": [],
   "source": [
    "import struct\n",
    "\n",
    "def binary_to_float64(binary_str):\n",
    "    # Convert the binary string to a bytes object\n",
    "    b = int(binary_str, 2).to_bytes(8, byteorder='big')\n",
    "\n",
    "    # Unpack the bytes object into a float64 value\n",
    "    f = struct.unpack('!d', b)[0]\n",
    "\n",
    "    return f"
   ]
  },
  {
   "cell_type": "markdown",
   "id": "16185523",
   "metadata": {},
   "source": [
    "### Non adimensional initialization"
   ]
  },
  {
   "cell_type": "code",
   "execution_count": 99,
   "id": "e1ff605a",
   "metadata": {},
   "outputs": [
    {
     "name": "stdout",
     "output_type": "stream",
     "text": [
      "True\n"
     ]
    }
   ],
   "source": [
    "# Write buffer addresses to AXI lite registers\n",
    "# TODO change addresses accordingly to `VITIS_ROOT/solution1/impl/misc/drivers/euler_propagator_v1_0/src/xeuler_propagator_hw.h`\n",
    "\n",
    "ADDR_YY     = 0x10\n",
    "ADDR_TT     = 0x1c\n",
    "ADDR_TF     = 0x28\n",
    "ADDR_H0     = 0x34\n",
    "ADDR_TOL    = 0x40\n",
    "ADDR_H_MAX  = 0x4c\n",
    "ADDR_H_MIN  = 0x58\n",
    "ADDR_MU     = 0x64\n",
    "ADDR_SIZE   = 0x70\n",
    "ADDR_FLAG   = 0x80\n",
    "\n",
    "tf_bin = float64_to_binary(TF)\n",
    "MSB_tf = int(tf_bin[:32], 2)\n",
    "LSB_tf = int(tf_bin[32:], 2)\n",
    "\n",
    "h0_bin = float64_to_binary(H0)\n",
    "MSB_h = int(h0_bin[:32], 2)\n",
    "LSB_h = int(h0_bin[32:], 2)\n",
    "\n",
    "tol_bin = float64_to_binary(TOL)\n",
    "MSB_tol = int(tol_bin[:32], 2)\n",
    "LSB_tol = int(tol_bin[32:], 2)\n",
    "\n",
    "hmax_bin = float64_to_binary(H_MAX)\n",
    "MSB_hmax = int(hmax_bin[:32], 2)\n",
    "LSB_hmax = int(hmax_bin[32:], 2)\n",
    "\n",
    "hmin_bin = float64_to_binary(H_MIN)\n",
    "MSB_hmin = int(hmin_bin[:32], 2)\n",
    "LSB_hmin = int(hmin_bin[32:], 2)\n",
    "\n",
    "mu_bin = float64_to_binary(MU)\n",
    "MSB_mu = int(mu_bin[:32], 2)\n",
    "LSB_mu = int(mu_bin[32:], 2)\n",
    "\n",
    "rk45_ip.write(ADDR_YY, buffer_y_FPGA.physical_address)\n",
    "rk45_ip.write(ADDR_TT, buffer_t_FPGA.physical_address)\n",
    "\n",
    "rk45_ip.write(ADDR_TF       , LSB_tf)\n",
    "rk45_ip.write(ADDR_TF + 0x04, MSB_tf)\n",
    "\n",
    "rk45_ip.write(ADDR_H0       , LSB_h)\n",
    "rk45_ip.write(ADDR_H0 + 0x04, MSB_h)\n",
    "\n",
    "rk45_ip.write(ADDR_TOL       , LSB_tol)\n",
    "rk45_ip.write(ADDR_TOL + 0x04, MSB_tol)\n",
    "\n",
    "rk45_ip.write(ADDR_H_MAX       , LSB_hmax)\n",
    "rk45_ip.write(ADDR_H_MAX + 0x04, MSB_hmax)\n",
    "\n",
    "rk45_ip.write(ADDR_H_MIN       , LSB_hmin)\n",
    "rk45_ip.write(ADDR_H_MIN + 0x04, MSB_hmin)\n",
    "\n",
    "rk45_ip.write(ADDR_MU       , LSB_mu)\n",
    "rk45_ip.write(ADDR_MU + 0x04, MSB_mu)\n",
    "\n",
    "# Check correctness\n",
    "# Information for reading and writing more than 32 bit https://discuss.pynq.io/t/how-can-i-write-a-64-bit-number-in-control-register-from-python/5519/3?u=davide-giacomini\n",
    "tf_memory_raw     = rk45_ip.mmio.read(ADDR_TF,  length=8)\n",
    "h0_memory_raw     = rk45_ip.mmio.read(ADDR_H0,   length=8)\n",
    "hmax_memory_raw   = rk45_ip.mmio.read(ADDR_H_MAX,  length=8)\n",
    "hmin_memory_raw   = rk45_ip.mmio.read(ADDR_H_MIN,  length=8)\n",
    "mu_memory_raw     = rk45_ip.mmio.read(ADDR_MU,  length=8)\n",
    "tol_memory_raw    = rk45_ip.mmio.read(ADDR_TOL,  length=8)\n",
    "\n",
    "print(      \n",
    "      TF          == binary_to_float64(bin(tf_memory_raw)[2:].zfill(64))      and\n",
    "      H0          == binary_to_float64(bin(h0_memory_raw)[2:].zfill(64))      and\n",
    "      H_MAX       == binary_to_float64(bin(hmax_memory_raw)[2:].zfill(64))      and\n",
    "      H_MIN       == binary_to_float64(bin(hmin_memory_raw)[2:].zfill(64))      and\n",
    "      MU          == binary_to_float64(bin(mu_memory_raw)[2:].zfill(64))      and\n",
    "      TOL         == binary_to_float64(bin(tol_memory_raw)[2:].zfill(64))\n",
    "      )"
   ]
  },
  {
   "cell_type": "markdown",
   "id": "4d8c29ae",
   "metadata": {},
   "source": [
    "### Adimensional initialization"
   ]
  },
  {
   "cell_type": "code",
   "execution_count": 25,
   "id": "0a6a76e7",
   "metadata": {},
   "outputs": [
    {
     "name": "stdout",
     "output_type": "stream",
     "text": [
      "True\n"
     ]
    }
   ],
   "source": [
    "# Write buffer addresses to AXI lite registers\n",
    "# TODO change addresses accordingly to `VITIS_ROOT/solution1/impl/misc/drivers/euler_propagator_v1_0/src/xeuler_propagator_hw.h`\n",
    "\n",
    "ADDR_YY     = 0x10\n",
    "ADDR_TT     = 0x1c\n",
    "ADDR_TF     = 0x28\n",
    "ADDR_H0     = 0x34\n",
    "ADDR_TOL    = 0x40\n",
    "ADDR_H_MAX  = 0x4c\n",
    "ADDR_H_MIN  = 0x58\n",
    "ADDR_MU     = 0x64\n",
    "ADDR_SIZE   = 0x70\n",
    "ADDR_FLAG   = 0x80\n",
    "\n",
    "tf_bin = float64_to_binary(tf_adim)\n",
    "MSB_tf = int(tf_bin[:32], 2)\n",
    "LSB_tf = int(tf_bin[32:], 2)\n",
    "\n",
    "h0_bin = float64_to_binary(h0_adim)\n",
    "MSB_h = int(h0_bin[:32], 2)\n",
    "LSB_h = int(h0_bin[32:], 2)\n",
    "\n",
    "tol_bin = float64_to_binary(tol_adim)\n",
    "MSB_tol = int(tol_bin[:32], 2)\n",
    "LSB_tol = int(tol_bin[32:], 2)\n",
    "\n",
    "hmax_bin = float64_to_binary(h_max_adim)\n",
    "MSB_hmax = int(hmax_bin[:32], 2)\n",
    "LSB_hmax = int(hmax_bin[32:], 2)\n",
    "\n",
    "hmin_bin = float64_to_binary(h_min_adim)\n",
    "MSB_hmin = int(hmin_bin[:32], 2)\n",
    "LSB_hmin = int(hmin_bin[32:], 2)\n",
    "\n",
    "mu_bin = float64_to_binary(mu_adim)\n",
    "MSB_mu = int(mu_bin[:32], 2)\n",
    "LSB_mu = int(mu_bin[32:], 2)\n",
    "\n",
    "rk45_ip.write(ADDR_YY, buffer_y_FPGA.physical_address)\n",
    "rk45_ip.write(ADDR_TT, buffer_t_FPGA.physical_address)\n",
    "\n",
    "rk45_ip.write(ADDR_TF       , LSB_tf)\n",
    "rk45_ip.write(ADDR_TF + 0x04, MSB_tf)\n",
    "\n",
    "rk45_ip.write(ADDR_H0       , LSB_h)\n",
    "rk45_ip.write(ADDR_H0 + 0x04, MSB_h)\n",
    "\n",
    "rk45_ip.write(ADDR_TOL       , LSB_tol)\n",
    "rk45_ip.write(ADDR_TOL + 0x04, MSB_tol)\n",
    "\n",
    "rk45_ip.write(ADDR_H_MAX       , LSB_hmax)\n",
    "rk45_ip.write(ADDR_H_MAX + 0x04, MSB_hmax)\n",
    "\n",
    "rk45_ip.write(ADDR_H_MIN       , LSB_hmin)\n",
    "rk45_ip.write(ADDR_H_MIN + 0x04, MSB_hmin)\n",
    "\n",
    "rk45_ip.write(ADDR_MU       , LSB_mu)\n",
    "rk45_ip.write(ADDR_MU + 0x04, MSB_mu)\n",
    "\n",
    "# Check correctness\n",
    "# Information for reading and writing more than 32 bit https://discuss.pynq.io/t/how-can-i-write-a-64-bit-number-in-control-register-from-python/5519/3?u=davide-giacomini\n",
    "tf_memory_raw     = rk45_ip.mmio.read(ADDR_TF,  length=8)\n",
    "h0_memory_raw     = rk45_ip.mmio.read(ADDR_H0,   length=8)\n",
    "hmax_memory_raw   = rk45_ip.mmio.read(ADDR_H_MAX,  length=8)\n",
    "hmin_memory_raw   = rk45_ip.mmio.read(ADDR_H_MIN,  length=8)\n",
    "mu_memory_raw     = rk45_ip.mmio.read(ADDR_MU,  length=8)\n",
    "tol_memory_raw    = rk45_ip.mmio.read(ADDR_TOL,  length=8)\n",
    "\n",
    "print(      \n",
    "      tf_adim     == binary_to_float64(bin(tf_memory_raw)[2:].zfill(64))      and\n",
    "      h0_adim     == binary_to_float64(bin(h0_memory_raw)[2:].zfill(64))      and\n",
    "      h_max_adim  == binary_to_float64(bin(hmax_memory_raw)[2:].zfill(64))      and\n",
    "      h_min_adim  == binary_to_float64(bin(hmin_memory_raw)[2:].zfill(64))      and\n",
    "      mu_adim     == binary_to_float64(bin(mu_memory_raw)[2:].zfill(64))      and\n",
    "      tol_adim    == binary_to_float64(bin(tol_memory_raw)[2:].zfill(64))\n",
    "      )"
   ]
  },
  {
   "cell_type": "markdown",
   "id": "30355400",
   "metadata": {},
   "source": [
    "### Declare function"
   ]
  },
  {
   "cell_type": "code",
   "execution_count": 26,
   "id": "ae843f1e",
   "metadata": {},
   "outputs": [],
   "source": [
    "def runge_kutta_45_fpga():\n",
    "    \n",
    "    rk45_ip.write(0x00, 1)\n",
    "    while rk45_ip.read(0x00) & 0x04 != 0x04:\n",
    "        pass\n",
    "    # Mark this content invalid, so the processor fetches the data from the FPGA\n",
    "    buffer_y_FPGA.invalidate()\n",
    "    buffer_t_FPGA.invalidate()"
   ]
  },
  {
   "cell_type": "code",
   "execution_count": 27,
   "id": "b4f4898d",
   "metadata": {},
   "outputs": [
    {
     "name": "stdout",
     "output_type": "stream",
     "text": [
      "Average of 196.84225243199944 seconds\n"
     ]
    }
   ],
   "source": [
    "# The commented code uses the buttons of the FPGA\n",
    "iterations = 1\n",
    "time = timeit.timeit(lambda: runge_kutta_45_fpga(), number=iterations)\n",
    "print('Average of ' + str(time/iterations) + ' seconds')"
   ]
  },
  {
   "cell_type": "code",
   "execution_count": 28,
   "id": "aac46c33",
   "metadata": {},
   "outputs": [],
   "source": [
    "size = rk45_ip.mmio.read(ADDR_SIZE,  length=4)\n",
    "flag = rk45_ip.mmio.read(ADDR_FLAG,  length=4)"
   ]
  },
  {
   "cell_type": "markdown",
   "id": "27fd0988",
   "metadata": {},
   "source": [
    "### Non adimensional storage"
   ]
  },
  {
   "cell_type": "code",
   "execution_count": 29,
   "id": "1ffc1fef",
   "metadata": {},
   "outputs": [
    {
     "name": "stdout",
     "output_type": "stream",
     "text": [
      "33169\n",
      "1\n"
     ]
    }
   ],
   "source": [
    "print(size)\n",
    "print(flag)"
   ]
  },
  {
   "cell_type": "code",
   "execution_count": 104,
   "id": "b723a293",
   "metadata": {},
   "outputs": [
    {
     "name": "stdout",
     "output_type": "stream",
     "text": [
      "/home/xilinx/jupyter_notebooks/runge_kutta_45/orbit_csv/67P_orbit\n",
      "y_fpga_tol09_jupyter.csv updated.\n",
      "/home/xilinx/jupyter_notebooks/runge_kutta_45/orbit_csv/67P_orbit\n",
      "t_fpga_tol09_jupyter.csv updated.\n"
     ]
    }
   ],
   "source": [
    "write_to_csv(np.array(buffer_y_FPGA)[:size], \"y_fpga_tol09_jupyter.csv\", dir_json)\n",
    "write_to_csv(np.array(buffer_t_FPGA)[:size], \"t_fpga_tol09_jupyter.csv\", dir_json)"
   ]
  },
  {
   "cell_type": "markdown",
   "id": "e714818e",
   "metadata": {},
   "source": [
    "### Adimensional storage"
   ]
  },
  {
   "cell_type": "code",
   "execution_count": 30,
   "id": "d9c1118c",
   "metadata": {},
   "outputs": [
    {
     "name": "stdout",
     "output_type": "stream",
     "text": [
      "/home/xilinx/jupyter_notebooks/runge_kutta_45/orbit_csv/67P_orbit\n",
      "y_fpga_tol09_adim_jupyter.csv updated.\n",
      "/home/xilinx/jupyter_notebooks/runge_kutta_45/orbit_csv/67P_orbit\n",
      "t_fpga_tol09_adim_jupyter.csv updated.\n"
     ]
    }
   ],
   "source": [
    "y_array = np.array(buffer_y_FPGA)[:size]\n",
    "t_array = np.array(buffer_t_FPGA)[:size]\n",
    "\n",
    "y_array_adim = np.concatenate((y_array[:, :3] * L, y_array[:, 3:] * L/T), axis=-1)\n",
    "t_array_adim = t_array * T\n",
    "\n",
    "write_to_csv(y_array_adim, \"y_fpga_tol09_adim_jupyter.csv\", dir_json)\n",
    "write_to_csv(t_array_adim, \"t_fpga_tol09_adim_jupyter.csv\", dir_json)"
   ]
  },
  {
   "cell_type": "markdown",
   "id": "ce6bc3be",
   "metadata": {},
   "source": [
    "## Check FPGA vs CPU"
   ]
  },
  {
   "cell_type": "code",
   "execution_count": null,
   "id": "45f962fb",
   "metadata": {},
   "outputs": [],
   "source": [
    "# correct = np.allclose(X_FPGA[:], X_CPU[:], rtol=1e-02)\n",
    "\n",
    "# for i in range(8):\n",
    "#     rgb[i].off()\n",
    "\n",
    "# if (correct):\n",
    "#     rgb[1].on()\n",
    "#     rgb[4].on()\n",
    "#     print(\"Yeee\")\n",
    "# else:\n",
    "#     rgb[2].on()\n",
    "#     rgb[5].on()\n",
    "#     print(\"Nope\")"
   ]
  },
  {
   "cell_type": "code",
   "execution_count": null,
   "id": "226fdc6e",
   "metadata": {},
   "outputs": [],
   "source": [
    "# Clear the rgb\n",
    "\n",
    "# for i in range(8):\n",
    "#     rgb[i].off()"
   ]
  },
  {
   "cell_type": "code",
   "execution_count": null,
   "id": "eacbf22e",
   "metadata": {},
   "outputs": [],
   "source": [
    "# buffer_X_FPGA.freebuffer()"
   ]
  }
 ],
 "metadata": {
  "kernelspec": {
   "display_name": "Python 3",
   "language": "python",
   "name": "python3"
  },
  "language_info": {
   "codemirror_mode": {
    "name": "ipython",
    "version": 3
   },
   "file_extension": ".py",
   "mimetype": "text/x-python",
   "name": "python",
   "nbconvert_exporter": "python",
   "pygments_lexer": "ipython3",
   "version": "3.8.2"
  }
 },
 "nbformat": 4,
 "nbformat_minor": 5
}
